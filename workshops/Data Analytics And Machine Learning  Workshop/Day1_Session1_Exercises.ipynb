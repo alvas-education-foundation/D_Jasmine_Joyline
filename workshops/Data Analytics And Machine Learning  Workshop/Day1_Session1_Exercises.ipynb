{
  "nbformat": 4,
  "nbformat_minor": 0,
  "metadata": {
    "colab": {
      "name": "Day1 Session1 Exercises.ipynb",
      "provenance": [],
      "collapsed_sections": []
    },
    "kernelspec": {
      "name": "python3",
      "display_name": "Python 3"
    }
  },
  "cells": [
    {
      "cell_type": "code",
      "metadata": {
        "id": "O9YT1peisXYm",
        "colab_type": "code",
        "outputId": "0856462c-ac69-46ae-daeb-84ee4844aba2",
        "colab": {
          "base_uri": "https://localhost:8080/",
          "height": 85
        }
      },
      "source": [
        "#1.\tFind the compound interest for the given p,n,r  (formula : p(1+n*r/100)n )\n",
        "def compound_interest(principle, rate, time): \n",
        "    CI = principle * (pow((1 + rate / 100), time)) \n",
        "    print(\"Compound interest is\", CI) \n",
        "p=int(input(\"enter p value: \"))\n",
        "n=int(input(\"enter n value: \"))\n",
        "r=float(input(\"enter r value: \"))\n",
        "compound_interest(p, r, n) \n"
      ],
      "execution_count": 0,
      "outputs": [
        {
          "output_type": "stream",
          "text": [
            "enter p value: 1000\n",
            "enter n value: 2\n",
            "enter r value: 13\n",
            "Compound interest is 1276.8999999999996\n"
          ],
          "name": "stdout"
        }
      ]
    },
    {
      "cell_type": "code",
      "metadata": {
        "id": "7mYyF-mRs1WV",
        "colab_type": "code",
        "outputId": "c040a8d9-9d30-4f74-d3f9-600574d79ae3",
        "colab": {
          "base_uri": "https://localhost:8080/",
          "height": 71
        }
      },
      "source": [
        "#2.\tConvert centegrade to farenheit  ( f= 9/5*c+32)\n",
        "celsius = float(input(\"Enter temperature in celsius: \"))\n",
        "fahrenheit = (celsius * 9/5) + 32\n",
        "print('%.2f Celsius is: %0.2f Fahrenheit' %(celsius, fahrenheit))\n"
      ],
      "execution_count": 0,
      "outputs": [
        {
          "output_type": "stream",
          "text": [
            "Enter temperature in celsius: 100\n",
            "100.00 Celsius is: 212.00 Fahrenheit\n"
          ],
          "name": "stdout"
        }
      ]
    },
    {
      "cell_type": "code",
      "metadata": {
        "id": "VHDxj6UftM_Z",
        "colab_type": "code",
        "outputId": "5c27d22c-62ba-4628-fc1a-70cdce3db879",
        "colab": {
          "base_uri": "https://localhost:8080/",
          "height": 85
        }
      },
      "source": [
        "#3.\tFind the greater of two nos \n",
        "a=int(input(\"enter a num : \"))\n",
        "b=int(input(\"enter a num : \"))\n",
        "print(\"greater num is : \")\n",
        "if(a>b):\n",
        "  print(a)\n",
        "else:\n",
        "  print(b)\n",
        "\n"
      ],
      "execution_count": 0,
      "outputs": [
        {
          "output_type": "stream",
          "text": [
            "enter a num : 1000\n",
            "enter a num : 999\n",
            "greater num is : \n",
            "1000\n"
          ],
          "name": "stdout"
        }
      ]
    },
    {
      "cell_type": "code",
      "metadata": {
        "id": "UH-ARGE4uBSo",
        "colab_type": "code",
        "outputId": "1d4463d5-b19f-4428-9a22-1f45f35f627a",
        "colab": {
          "base_uri": "https://localhost:8080/",
          "height": 105
        }
      },
      "source": [
        "#4.\tWrite a program for finding surface areas of cylinder and cone (2*PI*r*r*h, 1/3*PI*r*r*h) using function.\n",
        "import math\n",
        "def Cylinder(r,h):\n",
        "  return 2*math.pi*r*r*h\n",
        "def cone(r,h):\n",
        "  return (1/3)*math.pi*r*r*h\n",
        "r=int(input(\"enter r value : \"))\n",
        "h=int(input(\"enter h value\"))\n",
        "print(\"surface area of cylinder is : %.2f\"%Cylinder(r,h))\n",
        "print(\"surface area of cone is : %.2f \"%cone(r,h))\n"
      ],
      "execution_count": 0,
      "outputs": [
        {
          "output_type": "stream",
          "text": [
            "enter r value : 5\n",
            "enter h value10\n",
            "surface area of cylinder is : 1570.80\n",
            "surface area of cone is : 261.80 \n"
          ],
          "name": "stdout"
        }
      ]
    },
    {
      "cell_type": "code",
      "metadata": {
        "id": "rPqCDqVauUo5",
        "colab_type": "code",
        "outputId": "2a9a8e7b-7c43-4da9-c2e6-36e7a215873c",
        "colab": {
          "base_uri": "https://localhost:8080/",
          "height": 119
        }
      },
      "source": [
        "#5.\tFind the greatest of four nos ( using ‘and’ operator)   using function.\n",
        "a=int(input(\"enter 1st num: \"))\n",
        "b=int(input(\"enter 2nd num: \"))\n",
        "c=int(input(\"enter 3rd num: \"))\n",
        "d=int(input(\"enter 4th num: \"))\n",
        "print(\"greater num is : \")\n",
        "if(a>b and a>c and a>d):\n",
        "  print(a)\n",
        "elif(b>c and b>d):\n",
        "  print(b)\n",
        "elif(c>d):\n",
        "  print(c)\n",
        "else:\n",
        "  print(d)\n"
      ],
      "execution_count": 0,
      "outputs": [
        {
          "output_type": "stream",
          "text": [
            "enter 1st num: 10\n",
            "enter 2nd num: 20\n",
            "enter 3rd num: 30\n",
            "enter 4th num: 40\n",
            "greater num is : \n",
            "40\n"
          ],
          "name": "stdout"
        }
      ]
    },
    {
      "cell_type": "code",
      "metadata": {
        "id": "3U65tWvDulls",
        "colab_type": "code",
        "outputId": "a06daa96-a4d1-4f95-9ef6-940e0ae13f06",
        "colab": {
          "base_uri": "https://localhost:8080/",
          "height": 1000
        }
      },
      "source": [
        "#6.\tWrite a  menu program to perform the operations ( ODDorEven, Factorial, ODDNoUptoN, PrimeUptoN ) using functions for two nos with  menu choice\n",
        "loop = 1 \n",
        "choice = 0 \n",
        "\n",
        "def oddoreven(a):\n",
        "  if(a%2==0):\n",
        "    print(\"even\")\n",
        "  else:\n",
        "    print(\"odd\") \n",
        "def fact(num):\n",
        "  factorial=1\n",
        "  if num < 0:\n",
        "     print(\"Sorry, factorial does not exist for negative numbers\")\n",
        "  elif num == 0:\n",
        "     print(\"The factorial of 0 is 1\")\n",
        "  else:\n",
        "     for i in range(1,num + 1):\n",
        "         factorial = factorial*i\n",
        "     print(\"The factorial of\",num,\"is\",factorial)\n",
        "def odd(n):\n",
        "   print(\"odd numbers: \");\n",
        "   for i in range(1,n+1):\n",
        "      if(i%2!=0):\n",
        "        print(i)\n",
        "def prime(l,h):\n",
        "  print(\"prime numbers: \")\n",
        "  for num in range(l,h + 1):  \n",
        "   if num > 1:  \n",
        "       for i in range(2,num):  \n",
        "           if (num % i) == 0:  \n",
        "               break  \n",
        "       else:  \n",
        "           print(num)  \n",
        "\n",
        "while loop == 1:\n",
        "  print (\"Welcome\")\n",
        "  print (\"your options are:\")\n",
        "  print (\"\")\n",
        "  print(\"1) odd or even\")\n",
        "  print(\"2) factorial\")\n",
        "  print(\"3) odd upto n\")\n",
        "  print(\"4) prime upto n\")\n",
        "  print(\"5) Quit \")\n",
        "  print(\"\")\n",
        "  try:\n",
        "    choice = int(input(\"Choose your option: \"))\n",
        "  except:\n",
        "     print('please enter a valid number for option')\n",
        "     print(\"\")\n",
        "  print(\"\")\n",
        "  if choice == 1:\n",
        "       x = int(input(\" Enter  no: \"))\n",
        "       oddoreven(x)\n",
        "\n",
        "  elif choice == 2:\n",
        "     x = int(input(\"Enter  no: \"))\n",
        "     fact(x)\n",
        "\n",
        "  elif choice == 3:\n",
        "      x = int(input(\"Enter range: \"))\n",
        "      odd(x)\n",
        "\n",
        "  elif choice == 4:\n",
        "       x = int(input(\"Enter lower range: \"))\n",
        "       y = int(input(\"Enter upper range: \"))\n",
        "       prime(x,y)\n",
        "\n",
        "  elif choice == 5:\n",
        "      loop = 0\n",
        "\n",
        "  else:\n",
        "       print(\"please choice a valid option from 1 to 5\")\n",
        "       choice=0\n",
        "print (\"Thank-you \")\n"
      ],
      "execution_count": 0,
      "outputs": [
        {
          "output_type": "stream",
          "text": [
            "Welcome\n",
            "your options are:\n",
            "\n",
            "1) odd or even\n",
            "2) factorial\n",
            "3) odd upto n\n",
            "4) prime upto n\n",
            "5) Quit \n",
            "\n",
            "Choose your option: 1\n",
            "\n",
            " Enter  no: 23\n",
            "odd\n",
            "Welcome\n",
            "your options are:\n",
            "\n",
            "1) odd or even\n",
            "2) factorial\n",
            "3) odd upto n\n",
            "4) prime upto n\n",
            "5) Quit \n",
            "\n",
            "Choose your option: 2\n",
            "\n",
            "Enter  no: 20\n",
            "The factorial of 20 is 2432902008176640000\n",
            "Welcome\n",
            "your options are:\n",
            "\n",
            "1) odd or even\n",
            "2) factorial\n",
            "3) odd upto n\n",
            "4) prime upto n\n",
            "5) Quit \n",
            "\n",
            "Choose your option: 3\n",
            "\n",
            "Enter range: 45\n",
            "odd numbers: \n",
            "1\n",
            "3\n",
            "5\n",
            "7\n",
            "9\n",
            "11\n",
            "13\n",
            "15\n",
            "17\n",
            "19\n",
            "21\n",
            "23\n",
            "25\n",
            "27\n",
            "29\n",
            "31\n",
            "33\n",
            "35\n",
            "37\n",
            "39\n",
            "41\n",
            "43\n",
            "45\n",
            "Welcome\n",
            "your options are:\n",
            "\n",
            "1) odd or even\n",
            "2) factorial\n",
            "3) odd upto n\n",
            "4) prime upto n\n",
            "5) Quit \n",
            "\n",
            "Choose your option: 4\n",
            "\n",
            "Enter lower range: 117\n",
            "Enter upper range: 210\n",
            "prime numbers: \n",
            "127\n",
            "131\n",
            "137\n",
            "139\n",
            "149\n",
            "151\n",
            "157\n",
            "163\n",
            "167\n",
            "173\n",
            "179\n",
            "181\n",
            "191\n",
            "193\n",
            "197\n",
            "199\n",
            "Welcome\n",
            "your options are:\n",
            "\n",
            "1) odd or even\n",
            "2) factorial\n",
            "3) odd upto n\n",
            "4) prime upto n\n",
            "5) Quit \n",
            "\n",
            "Choose your option: 5\n",
            "\n",
            "Thank-you \n"
          ],
          "name": "stdout"
        }
      ]
    },
    {
      "cell_type": "code",
      "metadata": {
        "id": "ichNy1m6sgtA",
        "colab_type": "code",
        "colab": {}
      },
      "source": [
        ""
      ],
      "execution_count": 0,
      "outputs": []
    }
  ]
}