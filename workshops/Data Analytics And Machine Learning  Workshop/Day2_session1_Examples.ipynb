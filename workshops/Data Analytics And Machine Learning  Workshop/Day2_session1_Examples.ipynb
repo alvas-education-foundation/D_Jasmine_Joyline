{
  "nbformat": 4,
  "nbformat_minor": 0,
  "metadata": {
    "colab": {
      "name": "Day2  session1 Examples.ipynb",
      "provenance": [],
      "collapsed_sections": []
    },
    "kernelspec": {
      "name": "python3",
      "display_name": "Python 3"
    }
  },
  "cells": [
    {
      "cell_type": "code",
      "metadata": {
        "id": "KLlq1GxqrQwx",
        "colab_type": "code",
        "colab": {}
      },
      "source": [
        ""
      ],
      "execution_count": 0,
      "outputs": []
    },
    {
      "cell_type": "markdown",
      "metadata": {
        "id": "_szGGYOprgGG",
        "colab_type": "text"
      },
      "source": [
        "#**List examples**\n",
        "\n",
        "\n",
        "\n",
        "# 1. Program to find the largest number in a list\n"
      ]
    },
    {
      "cell_type": "code",
      "metadata": {
        "id": "HALyzyUgrpId",
        "colab_type": "code",
        "colab": {
          "base_uri": "https://localhost:8080/",
          "height": 156
        },
        "outputId": "e1035fb9-b94b-4b16-bae4-01e7fb9a7893"
      },
      "source": [
        "a=[]\n",
        "n=int(input(\"Enter number of elements:\"))\n",
        "for i in range(1,n+1):\n",
        "    b=int(input(\"Enter element:\"))\n",
        "    a.append(b)\n",
        "a.sort()\n",
        "print(\"Largest element is:\",a[n-1])\n",
        "\n"
      ],
      "execution_count": 4,
      "outputs": [
        {
          "output_type": "stream",
          "text": [
            "Enter number of elements:5\n",
            "Enter element:20\n",
            "Enter element:30\n",
            "Enter element:45\n",
            "Enter element:50\n",
            "Enter element:2\n",
            "Largest element is: 50\n"
          ],
          "name": "stdout"
        }
      ]
    },
    {
      "cell_type": "code",
      "metadata": {
        "id": "l--tcvZwsnTu",
        "colab_type": "code",
        "colab": {
          "base_uri": "https://localhost:8080/",
          "height": 136
        },
        "outputId": "1f1a70f1-089a-4c2f-b2ba-62a354b01fbf"
      },
      "source": [
        "x=0\n",
        "print('The greatest no is',max([int(input(x)) for i in range(int(input(\"Enter n\")))]))\n"
      ],
      "execution_count": 5,
      "outputs": [
        {
          "output_type": "stream",
          "text": [
            "Enter n5\n",
            "20\n",
            "65\n",
            "95\n",
            "87\n",
            "56\n",
            "The greatest no is 95\n"
          ],
          "name": "stdout"
        }
      ]
    },
    {
      "cell_type": "markdown",
      "metadata": {
        "id": "kEh9bOcEs1bB",
        "colab_type": "text"
      },
      "source": [
        "#2. Python Program to put the even and odd elements in a list into two different lists. "
      ]
    },
    {
      "cell_type": "code",
      "metadata": {
        "id": "mIaGUN73s-oX",
        "colab_type": "code",
        "colab": {
          "base_uri": "https://localhost:8080/",
          "height": 224
        },
        "outputId": "9f31b008-ddb4-44c8-deb4-1602143920fd"
      },
      "source": [
        "a=[]\n",
        "n=int(input(\"Enter number of elements:\"))\n",
        "for i in range(1,n+1):\n",
        "    b=int(input(\"Enter element:\"))\n",
        "    a.append(b)\n",
        "even=[]\n",
        "odd=[]\n",
        "for j in a:\n",
        "    if(j%2==0):\n",
        "        even.append(j)\n",
        "    else:\n",
        "        odd.append(j)\n",
        "print(\"The even list\",even)\n",
        "print(\"The odd list\",odd)\n"
      ],
      "execution_count": 6,
      "outputs": [
        {
          "output_type": "stream",
          "text": [
            "Enter number of elements:8\n",
            "Enter element:12\n",
            "Enter element:13\n",
            "Enter element:16\n",
            "Enter element:52\n",
            "Enter element:4\n",
            "Enter element:8\n",
            "Enter element:6\n",
            "Enter element:5\n",
            "The even list [12, 16, 52, 4, 8, 6]\n",
            "The odd list [13, 5]\n"
          ],
          "name": "stdout"
        }
      ]
    },
    {
      "cell_type": "markdown",
      "metadata": {
        "id": "n_CuiQuftNDB",
        "colab_type": "text"
      },
      "source": [
        "#3. Python Program to merge two lists and sort it."
      ]
    },
    {
      "cell_type": "code",
      "metadata": {
        "id": "20aIcb7wtSEz",
        "colab_type": "code",
        "colab": {
          "base_uri": "https://localhost:8080/",
          "height": 275
        },
        "outputId": "88a065ce-3565-47c3-c1c8-23d04086efa2"
      },
      "source": [
        "a=[]\n",
        "c=[]\n",
        "n1=int(input(\"Enter number of elements:\"))\n",
        "for i in range(1,n1+1):\n",
        "    b=int(input(\"Enter element:\"))\n",
        "    a.append(b)\n",
        "n2=int(input(\"Enter number of elements:\"))\n",
        "for i in range(1,n2+1):\n",
        "    d=int(input(\"Enter element:\"))\n",
        "    c.append(d)\n",
        "new=a+c\n",
        "new.sort()\n",
        "print(\"Sorted list is:\",new)\n"
      ],
      "execution_count": 9,
      "outputs": [
        {
          "output_type": "stream",
          "text": [
            "Enter number of elements:5\n",
            "Enter element:32\n",
            "Enter element:4\n",
            "Enter element:6\n",
            "Enter element:25\n",
            "Enter element:10\n",
            "Enter number of elements:6\n",
            "Enter element:1\n",
            "Enter element:9\n",
            "Enter element:23\n",
            "Enter element:51\n",
            "Enter element:65\n",
            "Enter element:99\n",
            "Sorted list is: [1, 4, 6, 9, 10, 23, 25, 32, 51, 65, 99]\n"
          ],
          "name": "stdout"
        }
      ]
    },
    {
      "cell_type": "code",
      "metadata": {
        "id": "Pv1guNycr4UK",
        "colab_type": "code",
        "colab": {}
      },
      "source": [
        ""
      ],
      "execution_count": 0,
      "outputs": []
    },
    {
      "cell_type": "markdown",
      "metadata": {
        "id": "fgHvBfWstqr0",
        "colab_type": "text"
      },
      "source": [
        "#4. Python Program to sort the list according to the second element in the sublist."
      ]
    },
    {
      "cell_type": "code",
      "metadata": {
        "id": "ztfQTZPOtwHe",
        "colab_type": "code",
        "colab": {
          "base_uri": "https://localhost:8080/",
          "height": 34
        },
        "outputId": "27e9916c-33fd-4d5a-fae5-274fdd09530d"
      },
      "source": [
        "a=[['A',34],['B',21],['C',26],['E',29]]\n",
        "for i in range(0,len(a)):\n",
        "    for j in range(i+1,len(a)):\n",
        "        if(a[i][1]>a[j][1]):\n",
        "            temp=a[j]\n",
        "            a[j]=a[i]\n",
        "            a[i]=temp\n",
        " \n",
        "print(a)\n",
        "\n"
      ],
      "execution_count": 10,
      "outputs": [
        {
          "output_type": "stream",
          "text": [
            "[['B', 21], ['C', 26], ['E', 29], ['A', 34]]\n"
          ],
          "name": "stdout"
        }
      ]
    },
    {
      "cell_type": "code",
      "metadata": {
        "id": "9FfXUOT5t1J8",
        "colab_type": "code",
        "colab": {}
      },
      "source": [
        ""
      ],
      "execution_count": 0,
      "outputs": []
    },
    {
      "cell_type": "markdown",
      "metadata": {
        "id": "sfQJaPmDt2cM",
        "colab_type": "text"
      },
      "source": [
        "#5. Python Program to find the second largest number in a list using bubble sort. "
      ]
    },
    {
      "cell_type": "code",
      "metadata": {
        "id": "pc5QYOwKuD_X",
        "colab_type": "code",
        "colab": {
          "base_uri": "https://localhost:8080/",
          "height": 190
        },
        "outputId": "1ec60ef8-221a-4a67-efee-113871601703"
      },
      "source": [
        "a=[]\n",
        "n=int(input(\"Enter number of elements:\"))\n",
        "for i in range(1,n+1):\n",
        "    b=int(input(\"Enter element:\"))\n",
        "    a.append(b)\n",
        "for i in range(0,len(a)):\n",
        "    for j in range(0,len(a)-i-1):\n",
        "        if(a[j]>a[j+1]):\n",
        "            temp=a[j]\n",
        "            a[j]=a[j+1]\n",
        "            a[j+1]=temp \n",
        "print('Second largest number is:',a[n-2])\n"
      ],
      "execution_count": 11,
      "outputs": [
        {
          "output_type": "stream",
          "text": [
            "Enter number of elements:7\n",
            "Enter element:23\n",
            "Enter element:1\n",
            "Enter element:62\n",
            "Enter element:98\n",
            "Enter element:52\n",
            "Enter element:10\n",
            "Enter element:75\n",
            "Second largest number is: 75\n"
          ],
          "name": "stdout"
        }
      ]
    },
    {
      "cell_type": "markdown",
      "metadata": {
        "id": "O8s9NzYUuPx8",
        "colab_type": "text"
      },
      "source": [
        "#6. Program to create a list of tuples with the first element as the number and the second element as the square of the number. "
      ]
    },
    {
      "cell_type": "code",
      "metadata": {
        "id": "nPma5KmnuX9W",
        "colab_type": "code",
        "colab": {
          "base_uri": "https://localhost:8080/",
          "height": 88
        },
        "outputId": "e75325c1-e907-4294-970e-14af1ab66ee9"
      },
      "source": [
        "l_range=int(input(\"Enter the lower range:\"))\n",
        "u_range=int(input(\"Enter the upper range:\"))\n",
        "a=[(x,x**2) for x in range(l_range,u_range+1)]\n",
        "print(a)\n"
      ],
      "execution_count": 12,
      "outputs": [
        {
          "output_type": "stream",
          "text": [
            "Enter the lower range:100\n",
            "Enter the upper range:200\n",
            "[(100, 10000), (101, 10201), (102, 10404), (103, 10609), (104, 10816), (105, 11025), (106, 11236), (107, 11449), (108, 11664), (109, 11881), (110, 12100), (111, 12321), (112, 12544), (113, 12769), (114, 12996), (115, 13225), (116, 13456), (117, 13689), (118, 13924), (119, 14161), (120, 14400), (121, 14641), (122, 14884), (123, 15129), (124, 15376), (125, 15625), (126, 15876), (127, 16129), (128, 16384), (129, 16641), (130, 16900), (131, 17161), (132, 17424), (133, 17689), (134, 17956), (135, 18225), (136, 18496), (137, 18769), (138, 19044), (139, 19321), (140, 19600), (141, 19881), (142, 20164), (143, 20449), (144, 20736), (145, 21025), (146, 21316), (147, 21609), (148, 21904), (149, 22201), (150, 22500), (151, 22801), (152, 23104), (153, 23409), (154, 23716), (155, 24025), (156, 24336), (157, 24649), (158, 24964), (159, 25281), (160, 25600), (161, 25921), (162, 26244), (163, 26569), (164, 26896), (165, 27225), (166, 27556), (167, 27889), (168, 28224), (169, 28561), (170, 28900), (171, 29241), (172, 29584), (173, 29929), (174, 30276), (175, 30625), (176, 30976), (177, 31329), (178, 31684), (179, 32041), (180, 32400), (181, 32761), (182, 33124), (183, 33489), (184, 33856), (185, 34225), (186, 34596), (187, 34969), (188, 35344), (189, 35721), (190, 36100), (191, 36481), (192, 36864), (193, 37249), (194, 37636), (195, 38025), (196, 38416), (197, 38809), (198, 39204), (199, 39601), (200, 40000)]\n"
          ],
          "name": "stdout"
        }
      ]
    },
    {
      "cell_type": "markdown",
      "metadata": {
        "id": "6nkhDvioveZY",
        "colab_type": "text"
      },
      "source": [
        "#**Tuple Examples**\n",
        "\n",
        "# 1. Write python program to have a list of words  to sort them from longest to shortest using list of tuples\n"
      ]
    },
    {
      "cell_type": "code",
      "metadata": {
        "id": "GDBDcJCtwXT4",
        "colab_type": "code",
        "colab": {
          "base_uri": "https://localhost:8080/",
          "height": 34
        },
        "outputId": "cfbe985c-7057-4bee-adc2-d596110914e9"
      },
      "source": [
        "txt = 'but soft what light in yonder window breaks'\n",
        "words = txt.split()\n",
        "t = list()\n",
        "for word in words:\n",
        "   t.append((len(word), word))\n",
        "t.sort(reverse=True)\n",
        "\n",
        "res = list()\n",
        "for length, word in t:\n",
        "    res.append(word)\n",
        "\n",
        "print(res)\n"
      ],
      "execution_count": 13,
      "outputs": [
        {
          "output_type": "stream",
          "text": [
            "['yonder', 'window', 'breaks', 'light', 'what', 'soft', 'but', 'in']\n"
          ],
          "name": "stdout"
        }
      ]
    },
    {
      "cell_type": "code",
      "metadata": {
        "id": "WlDBvXNPuHXG",
        "colab_type": "code",
        "colab": {}
      },
      "source": [
        ""
      ],
      "execution_count": 0,
      "outputs": []
    },
    {
      "cell_type": "markdown",
      "metadata": {
        "id": "IBZI7ni6xXGb",
        "colab_type": "text"
      },
      "source": [
        "#2. Python program that assigns variables"
      ]
    },
    {
      "cell_type": "code",
      "metadata": {
        "id": "eb3g1RUwxdn5",
        "colab_type": "code",
        "colab": {
          "base_uri": "https://localhost:8080/",
          "height": 51
        },
        "outputId": "5fbf067f-ec99-488f-f929-e035a5c70ab8"
      },
      "source": [
        "# Create packed tuple.\n",
        "pair = (\"dog\", \"cat\")\n",
        "\n",
        "# Unpack tuple.\n",
        "(key, value) = pair\n",
        "\n",
        "# Display unpacked variables.\n",
        "print(key)\n",
        "print(value)\n"
      ],
      "execution_count": 14,
      "outputs": [
        {
          "output_type": "stream",
          "text": [
            "dog\n",
            "cat\n"
          ],
          "name": "stdout"
        }
      ]
    },
    {
      "cell_type": "code",
      "metadata": {
        "id": "7zb5rIerxkrp",
        "colab_type": "code",
        "colab": {}
      },
      "source": [
        ""
      ],
      "execution_count": 0,
      "outputs": []
    },
    {
      "cell_type": "markdown",
      "metadata": {
        "id": "902I7XGTxl5V",
        "colab_type": "text"
      },
      "source": [
        "# 3. Python program that searches tuples"
      ]
    },
    {
      "cell_type": "code",
      "metadata": {
        "id": "gYlTDLmOxuba",
        "colab_type": "code",
        "colab": {
          "base_uri": "https://localhost:8080/",
          "height": 51
        },
        "outputId": "8ed6f40f-49c3-4916-fbf9-653579ddf7f5"
      },
      "source": [
        "pair = (\"dog\", \"cat\")\n",
        "\n",
        "# Search for a value.\n",
        "if \"cat\" in pair:\n",
        "    print(\"Cat found\")\n",
        "\n",
        "# Search for a value not present.\n",
        "if \"bird\" not in pair:\n",
        "    print(\"Bird not found\")\n"
      ],
      "execution_count": 15,
      "outputs": [
        {
          "output_type": "stream",
          "text": [
            "Cat found\n",
            "Bird not found\n"
          ],
          "name": "stdout"
        }
      ]
    },
    {
      "cell_type": "code",
      "metadata": {
        "id": "K1gQz22XyVcQ",
        "colab_type": "code",
        "colab": {}
      },
      "source": [
        ""
      ],
      "execution_count": 0,
      "outputs": []
    }
  ]
}