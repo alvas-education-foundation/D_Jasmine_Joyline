{
  "nbformat": 4,
  "nbformat_minor": 0,
  "metadata": {
    "colab": {
      "name": "Day1 Session2 Exercises.ipynb",
      "provenance": [],
      "collapsed_sections": []
    },
    "kernelspec": {
      "name": "python3",
      "display_name": "Python 3"
    }
  },
  "cells": [
    {
      "cell_type": "code",
      "metadata": {
        "id": "PIT3dXS4yuJ7",
        "colab_type": "code",
        "colab": {}
      },
      "source": [
        ""
      ],
      "execution_count": 0,
      "outputs": []
    },
    {
      "cell_type": "markdown",
      "metadata": {
        "id": "bmV59-tHzmCh",
        "colab_type": "text"
      },
      "source": [
        "1 Write a program to print the triangle \n",
        "i/p  4\n",
        "\n",
        "1\n",
        "\n",
        "2    3\n",
        "\n",
        "3    4   5\n",
        "\n",
        "4    5   6   7\n"
      ]
    },
    {
      "cell_type": "code",
      "metadata": {
        "id": "nvOXlCuiztux",
        "colab_type": "code",
        "colab": {
          "base_uri": "https://localhost:8080/",
          "height": 122
        },
        "outputId": "e4a118eb-c622-4552-db8b-e7e9f02f7e8d"
      },
      "source": [
        "n=int(input('Enter the value of n '))\n",
        "num=1\n",
        "for i in range(1,n+1):\n",
        "  num=i\n",
        "  for j in range(i):\n",
        "    print(num,end=\" \")\n",
        "    num=num+1\n",
        "  print()"
      ],
      "execution_count": 3,
      "outputs": [
        {
          "output_type": "stream",
          "text": [
            "Enter the value of n 4\n",
            "1 \n",
            "2 3 \n",
            "3 4 5 \n",
            "4 5 6 7 \n"
          ],
          "name": "stdout"
        }
      ]
    },
    {
      "cell_type": "code",
      "metadata": {
        "id": "lBms0Ote0k_L",
        "colab_type": "code",
        "colab": {}
      },
      "source": [
        ""
      ],
      "execution_count": 0,
      "outputs": []
    },
    {
      "cell_type": "code",
      "metadata": {
        "id": "BEUVprWq1Knb",
        "colab_type": "code",
        "colab": {
          "base_uri": "https://localhost:8080/",
          "height": 122
        },
        "outputId": "1bb9419a-30e9-4cc1-c310-b64df025a189"
      },
      "source": [
        "\"\"\"\"2.Enter number 4\n",
        "\n",
        "*\n",
        "* *\n",
        "* * *\n",
        "* * * *\"\"\"\n",
        "num=int(input('Enter the value of n '))\n",
        "for i in range(1,n+1):\n",
        "  for j in range(i):\n",
        "    print('*',end=\" \")\n",
        "  print()\n"
      ],
      "execution_count": 5,
      "outputs": [
        {
          "output_type": "stream",
          "text": [
            "Enter the value of n 4\n",
            "* \n",
            "* * \n",
            "* * * \n",
            "* * * * \n"
          ],
          "name": "stdout"
        }
      ]
    },
    {
      "cell_type": "code",
      "metadata": {
        "id": "8NwFwKgL2PWs",
        "colab_type": "code",
        "colab": {}
      },
      "source": [
        ""
      ],
      "execution_count": 0,
      "outputs": []
    },
    {
      "cell_type": "markdown",
      "metadata": {
        "id": "Urws1F_02aC9",
        "colab_type": "text"
      },
      "source": [
        "3.Enter number 5\n",
        "\n",
        "5\n",
        "\n",
        "4 5\n",
        "\n",
        "3 4 5\n",
        "\n",
        "2 3 4 5\n",
        "\n",
        "1 2 3 4 5\n"
      ]
    },
    {
      "cell_type": "code",
      "metadata": {
        "id": "bOv0_76l2h0I",
        "colab_type": "code",
        "colab": {
          "base_uri": "https://localhost:8080/",
          "height": 156
        },
        "outputId": "ca6aaaa1-a57c-436e-ad80-9e43b848200d"
      },
      "source": [
        "n=int(input('Enter the value of n: '))\n",
        "for i in range(n+1,0,-1):\n",
        "  num=i\n",
        "  for j in range(i,n+1):\n",
        "    print(num,end=\" \")\n",
        "    num+=1\n",
        "  print()\n"
      ],
      "execution_count": 11,
      "outputs": [
        {
          "output_type": "stream",
          "text": [
            "Enter the value of n: 5\n",
            "\n",
            "5 \n",
            "4 5 \n",
            "3 4 5 \n",
            "2 3 4 5 \n",
            "1 2 3 4 5 \n"
          ],
          "name": "stdout"
        }
      ]
    },
    {
      "cell_type": "markdown",
      "metadata": {
        "id": "2F_XLZ9W3zPq",
        "colab_type": "text"
      },
      "source": [
        "4  Enter number 5\n",
        "\n",
        "5 4 3 2 1\n",
        "\n",
        "4 3 2 1\n",
        "\n",
        "3 2 1\n",
        "\n",
        "2 1\n",
        "\n",
        "1\n"
      ]
    },
    {
      "cell_type": "code",
      "metadata": {
        "id": "GH2QWApZ4Agh",
        "colab_type": "code",
        "colab": {
          "base_uri": "https://localhost:8080/",
          "height": 139
        },
        "outputId": "6cba0001-4192-4ad9-fee7-9e648668e551"
      },
      "source": [
        "n=int(input('Enter the value of n '))\n",
        "for i in range(n,0,-1):\n",
        "  for j in range(i,0,-1):\n",
        "    print(j,end=\" \")\n",
        "  print()"
      ],
      "execution_count": 12,
      "outputs": [
        {
          "output_type": "stream",
          "text": [
            "Enter the value of n 5\n",
            "5 4 3 2 1 \n",
            "4 3 2 1 \n",
            "3 2 1 \n",
            "2 1 \n",
            "1 \n"
          ],
          "name": "stdout"
        }
      ]
    },
    {
      "cell_type": "markdown",
      "metadata": {
        "id": "Gxw8vKFU7FH9",
        "colab_type": "text"
      },
      "source": [
        "5 Enter number 4\n",
        "\n",
        "1 2 3 4\n",
        "\n",
        "2 3 4\n",
        "\n",
        "3 4\n",
        "\n",
        "4\n",
        "\n",
        "3 4\n",
        "\n",
        "2 3 4\n",
        "\n",
        "1 2 3 4\n"
      ]
    },
    {
      "cell_type": "code",
      "metadata": {
        "id": "QYE0y3yF7PFU",
        "colab_type": "code",
        "colab": {
          "base_uri": "https://localhost:8080/",
          "height": 173
        },
        "outputId": "55ddb53b-2d6a-4494-945d-60dac4592e99"
      },
      "source": [
        "n=int(input('Enter the value of n '))\n",
        "for i in range(1,n+1):\n",
        "  for j in range(i,n+1):\n",
        "    print(j,end=\" \")\n",
        "  print()\n",
        "for i in range(n-1,0,-1):\n",
        "  for j in range(i,n+1):\n",
        "    print(j,end=\" \")\n",
        "  print()  "
      ],
      "execution_count": 14,
      "outputs": [
        {
          "output_type": "stream",
          "text": [
            "Enter the value of n 4\n",
            "1 2 3 4 \n",
            "2 3 4 \n",
            "3 4 \n",
            "4 \n",
            "3 4 \n",
            "2 3 4 \n",
            "1 2 3 4 \n"
          ],
          "name": "stdout"
        }
      ]
    },
    {
      "cell_type": "code",
      "metadata": {
        "id": "UUc10gzo3N22",
        "colab_type": "code",
        "colab": {}
      },
      "source": [
        ""
      ],
      "execution_count": 0,
      "outputs": []
    },
    {
      "cell_type": "markdown",
      "metadata": {
        "id": "lEnHtdAx8f8N",
        "colab_type": "text"
      },
      "source": [
        "6 Find the length of a string without using len functions"
      ]
    },
    {
      "cell_type": "code",
      "metadata": {
        "id": "_rVAtWXd8kQt",
        "colab_type": "code",
        "colab": {
          "base_uri": "https://localhost:8080/",
          "height": 71
        },
        "outputId": "0afb052a-3a1e-4100-d21b-4e5c9c323ccc"
      },
      "source": [
        "string=input('Enter the String ')\n",
        "count=0\n",
        "for word in string:\n",
        "  for i in word:\n",
        "    count+=1\n",
        "print('The length of the string is ',count)"
      ],
      "execution_count": 16,
      "outputs": [
        {
          "output_type": "stream",
          "text": [
            "Enter the String The Lord is my Shepherd\n",
            "The length of the string is  23\n"
          ],
          "name": "stdout"
        }
      ]
    },
    {
      "cell_type": "code",
      "metadata": {
        "id": "-qkJu1SA89hn",
        "colab_type": "code",
        "colab": {}
      },
      "source": [
        ""
      ],
      "execution_count": 0,
      "outputs": []
    },
    {
      "cell_type": "markdown",
      "metadata": {
        "id": "VU1J_IUG9Nfo",
        "colab_type": "text"
      },
      "source": [
        "7 Find the no of words and characters in a string"
      ]
    },
    {
      "cell_type": "code",
      "metadata": {
        "id": "MSvhHz9X9VBF",
        "colab_type": "code",
        "colab": {
          "base_uri": "https://localhost:8080/",
          "height": 88
        },
        "outputId": "a1b7a681-70f4-434f-afbf-20043bf575e2"
      },
      "source": [
        "string=input('Enter the String ')\n",
        "wordcount=0\n",
        "charcount=0\n",
        "for word in string.split():\n",
        "  wordcount+=1\n",
        "  for i in word:\n",
        "    if(len(i)>0):\n",
        "      charcount+=1\n",
        "print('Word count is ',wordcount)\n",
        "print('Character count is ',charcount)"
      ],
      "execution_count": 20,
      "outputs": [
        {
          "output_type": "stream",
          "text": [
            "Enter the String the lord is my shepherd\n",
            "Word count is  5\n",
            "Character count is  19\n"
          ],
          "name": "stdout"
        }
      ]
    },
    {
      "cell_type": "markdown",
      "metadata": {
        "id": "ZIMM0w8Q_x7O",
        "colab_type": "text"
      },
      "source": [
        "8 Find the no of occurrences of a word in a string"
      ]
    },
    {
      "cell_type": "code",
      "metadata": {
        "id": "D-oYbn7x_7uM",
        "colab_type": "code",
        "colab": {
          "base_uri": "https://localhost:8080/",
          "height": 71
        },
        "outputId": "c74db560-8885-49cb-f3e0-d6efcec190fb"
      },
      "source": [
        "def word_count(str):\n",
        "    counts = dict()\n",
        "    words = str.split()\n",
        "\n",
        "    for word in words:\n",
        "        if word in counts:\n",
        "            counts[word] += 1\n",
        "        else:\n",
        "            counts[word] = 1\n",
        "\n",
        "    return counts\n",
        "\n",
        "string=input('Enter the String ')\n",
        "print( word_count(string))\n",
        "\n"
      ],
      "execution_count": 22,
      "outputs": [
        {
          "output_type": "stream",
          "text": [
            "Enter the String the quick brown fox jumps over the lazy dog\n",
            "{'the': 2, 'quick': 1, 'brown': 1, 'fox': 1, 'jumps': 1, 'over': 1, 'lazy': 1, 'dog': 1}\n"
          ],
          "name": "stdout"
        }
      ]
    },
    {
      "cell_type": "code",
      "metadata": {
        "id": "37jqJkTJ-A2J",
        "colab_type": "code",
        "colab": {}
      },
      "source": [
        ""
      ],
      "execution_count": 0,
      "outputs": []
    }
  ]
}