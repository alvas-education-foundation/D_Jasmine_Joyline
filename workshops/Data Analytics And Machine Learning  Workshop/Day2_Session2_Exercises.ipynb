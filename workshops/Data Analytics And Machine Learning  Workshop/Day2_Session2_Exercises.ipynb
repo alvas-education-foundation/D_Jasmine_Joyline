{
  "nbformat": 4,
  "nbformat_minor": 0,
  "metadata": {
    "colab": {
      "name": "Day2 Session2 Exercises.ipynb",
      "provenance": [],
      "collapsed_sections": []
    },
    "kernelspec": {
      "name": "python3",
      "display_name": "Python 3"
    }
  },
  "cells": [
    {
      "cell_type": "code",
      "metadata": {
        "id": "Sd8b9EphRVWw",
        "colab_type": "code",
        "colab": {}
      },
      "source": [
        ""
      ],
      "execution_count": 0,
      "outputs": []
    },
    {
      "cell_type": "markdown",
      "metadata": {
        "id": "vjVZpn3of4pQ",
        "colab_type": "text"
      },
      "source": [
        "#**Dictionary** "
      ]
    },
    {
      "cell_type": "markdown",
      "metadata": {
        "id": "lE7ek7ezgEqj",
        "colab_type": "text"
      },
      "source": [
        "#1.\tAdd rollno and marks {name:mark} for n number of students through keyboard in a dictionary and print the marks in descending order with respective name."
      ]
    },
    {
      "cell_type": "code",
      "metadata": {
        "id": "1ppXqkjigJTm",
        "colab_type": "code",
        "colab": {
          "base_uri": "https://localhost:8080/",
          "height": 173
        },
        "outputId": "8745aa97-dc58-425b-d390-67c5203ba281"
      },
      "source": [
        "import operator\n",
        "n=int(input(\"Enter no of students\"))\n",
        "d={}\n",
        "for i in range(1,n+1):\n",
        "    name= input(\"Enter name %d \"%(i))\n",
        "    mark=int(input(\"Enter mark %d \"%(i)))\n",
        "    d[name]=mark\n",
        "sorted_d = sorted(d.items(), key=operator.itemgetter(1),reverse=True)\n",
        "print(sorted_d)"
      ],
      "execution_count": 5,
      "outputs": [
        {
          "output_type": "stream",
          "text": [
            "Enter no of students3\n",
            "Enter name 1 jim\n",
            "Enter mark 1 80\n",
            "Enter name 2 tim\n",
            "Enter mark 2 67\n",
            "Enter name 3 lynn\n",
            "Enter mark 3 90\n",
            "[('lynn', 90), ('jim', 80), ('tim', 67)]\n"
          ],
          "name": "stdout"
        }
      ]
    },
    {
      "cell_type": "markdown",
      "metadata": {
        "id": "xr-2pI30iOA1",
        "colab_type": "text"
      },
      "source": [
        "#2.\tAdd  name and salary {name:salary} for n number of employees through keyboard in a dictionary and print them in name alphabetical order with salary"
      ]
    },
    {
      "cell_type": "code",
      "metadata": {
        "id": "Q0k0KjATiwlS",
        "colab_type": "code",
        "colab": {
          "base_uri": "https://localhost:8080/",
          "height": 173
        },
        "outputId": "c79e5a92-1ec6-4136-a148-25f9f8a26a11"
      },
      "source": [
        "import operator\n",
        "n=int(input(\"Enter no of Employees\"))\n",
        "d={}\n",
        "for i in range(1,n+1):\n",
        "    name= input(\"Enter name %d \"%(i))\n",
        "    salary=int(input(\"Enter salary %d \"%(i)))\n",
        "    d[name]=salary\n",
        "sorted_d = sorted(d.items(), key=operator.itemgetter(0))\n",
        "print(sorted_d)"
      ],
      "execution_count": 6,
      "outputs": [
        {
          "output_type": "stream",
          "text": [
            "Enter no of Employees3\n",
            "Enter name 1Ram\n",
            "Enter salary 130000\n",
            "Enter name 2Jam\n",
            "Enter salary 240000\n",
            "Enter name 3Sam\n",
            "Enter salary 325000\n",
            "[('Jam', 40000), ('Ram', 30000), ('Sam', 25000)]\n"
          ],
          "name": "stdout"
        }
      ]
    },
    {
      "cell_type": "markdown",
      "metadata": {
        "id": "qbB9XKyCky9g",
        "colab_type": "text"
      },
      "source": [
        "#3.\tAdd  name and salary {name:salary} for n number of employees through keyboard in a dictionary and print them in salary  ascending order and  sum, max, min and average of the salaries"
      ]
    },
    {
      "cell_type": "code",
      "metadata": {
        "id": "s7P0QsZWk4li",
        "colab_type": "code",
        "colab": {
          "base_uri": "https://localhost:8080/",
          "height": 241
        },
        "outputId": "3bbb3508-c6ed-4e62-c9c5-8c63b0183917"
      },
      "source": [
        "import operator \n",
        "n=int(input(\"Enter no of Employees\"))\n",
        "d={}\n",
        "for i in range(1,n+1):\n",
        "    name= input(\"Enter name %d \"%(i))\n",
        "    salary=int(input(\"Enter salary %d \"%(i)))\n",
        "    d[name]=salary\n",
        "sorted_d = sorted(d.items(), key=operator.itemgetter(0))\n",
        "print(sorted_d)\n",
        "print(\"Sum of salaries \",sum(d.values()))\n",
        "print(\"Max of salaries \",max(d.values()))\n",
        "print(\"Min of salaries \",min(d.values()))\n",
        "print(\"Avg of salaries \",sum(d.values())/len(d.values()))\n"
      ],
      "execution_count": 8,
      "outputs": [
        {
          "output_type": "stream",
          "text": [
            "Enter no of Employees3\n",
            "Enter name 1Anvitha\n",
            "Enter salary 125000\n",
            "Enter name 2Pradvi\n",
            "Enter salary 230000\n",
            "Enter name 3Akila\n",
            "Enter salary 340000\n",
            "[('Akila', 40000), ('Anvitha', 25000), ('Pradvi', 30000)]\n",
            "Sum of salaries  95000\n",
            "Max of salaries  40000\n",
            "Min of salaries  25000\n",
            "Avg of salaries  31666.666666666668\n"
          ],
          "name": "stdout"
        }
      ]
    },
    {
      "cell_type": "markdown",
      "metadata": {
        "id": "_OigD_V4oWNo",
        "colab_type": "text"
      },
      "source": [
        ""
      ]
    },
    {
      "cell_type": "markdown",
      "metadata": {
        "id": "NGH3IxikoaH1",
        "colab_type": "text"
      },
      "source": [
        "#4.\tAdd name and salary {name:salary} for n number of employees through keyboard in a dictionary and print only the employees whose salary is greater than 2000 but less than 4000"
      ]
    },
    {
      "cell_type": "code",
      "metadata": {
        "id": "CKStA08foh6I",
        "colab_type": "code",
        "colab": {
          "base_uri": "https://localhost:8080/",
          "height": 173
        },
        "outputId": "317e0666-0b68-4961-dedb-a6fb1fbaed9b"
      },
      "source": [
        "import operator \n",
        "n=int(input(\"Enter no of Employees\"))\n",
        "d={}\n",
        "for i in range(1,n+1):\n",
        "    name= input(\"Enter name %d \"%(i))\n",
        "    salary=int(input(\"Enter salary %d \"%(i)))\n",
        "    d[name]=salary\n",
        "for (k,v) in d.items():\n",
        "  if(v>2000 and v<4000):\n",
        "    print(k,\":\",v)\n",
        "\n"
      ],
      "execution_count": 12,
      "outputs": [
        {
          "output_type": "stream",
          "text": [
            "Enter no of Employees3\n",
            "Enter name 1 Antony\n",
            "Enter salary 1 3000\n",
            "Enter name 2 Tiffy\n",
            "Enter salary 2 4000\n",
            "Enter name 3 Reeba\n",
            "Enter salary 3 5000\n",
            "Antony : 3000\n"
          ],
          "name": "stdout"
        }
      ]
    },
    {
      "cell_type": "code",
      "metadata": {
        "id": "8SyvEIIsgnSL",
        "colab_type": "code",
        "colab": {}
      },
      "source": [
        ""
      ],
      "execution_count": 0,
      "outputs": []
    },
    {
      "cell_type": "markdown",
      "metadata": {
        "id": "PxlAl16arJKx",
        "colab_type": "text"
      },
      "source": [
        "#5.\tPython program to convert a 3 digit number  into words"
      ]
    },
    {
      "cell_type": "code",
      "metadata": {
        "id": "-tqG_qe9rNM2",
        "colab_type": "code",
        "colab": {
          "base_uri": "https://localhost:8080/",
          "height": 71
        },
        "outputId": "2334d4dc-38d3-46c0-a2de-3e293acae137"
      },
      "source": [
        "d={0:'',1:'one',2:'two',3:'three',4:'four',5:'five',6:'six',7:'seven',8:'eight',9:'nine',10:'ten',11:'eleven',12:'twelve',13:'thirteen',14:'fouteen',15:'fifteen',16:'sixteen',17:'seventeen',18:'eighteen',19:'nineteen',20:'twenty',30:'thirty',40:'forty',50:'fifty',60:'sixty',70:'seventy',80:'eighty',90:'ninety',100:'hundred'}\n",
        "num=int(input('Enter the 3 digit number'))\n",
        "if num<=20:\n",
        "    print(d[num])\n",
        "elif num>20 and num<100:\n",
        "    if num%10 ==0:\n",
        "          print(d[num])\n",
        "    else:\n",
        "          print(d[num//10*10]+\" \"+d[num%10])\n",
        "elif num>=100 and num<1000:\n",
        "    if num%100==0:\n",
        "          print(d[num//100]+\" \"+d[100])\n",
        "    else:\n",
        "          print(d[num//100]+\" \"+d[100]+\" \"+d[num%100//10*10]+\" \"+d[num%10])\n"
      ],
      "execution_count": 13,
      "outputs": [
        {
          "output_type": "stream",
          "text": [
            "Enter the 3 digit number999\n",
            "nine hundred ninety nine\n"
          ],
          "name": "stdout"
        }
      ]
    },
    {
      "cell_type": "markdown",
      "metadata": {
        "id": "oXY6PFbOrn9L",
        "colab_type": "text"
      },
      "source": [
        "#**Files Exercises**"
      ]
    },
    {
      "cell_type": "markdown",
      "metadata": {
        "id": "XeMHOyvBr4ID",
        "colab_type": "text"
      },
      "source": [
        "#1. Python Program to count the total number of charaters (except blank space) in a text file."
      ]
    },
    {
      "cell_type": "code",
      "metadata": {
        "id": "4vl70adxsCBF",
        "colab_type": "code",
        "colab": {
          "base_uri": "https://localhost:8080/",
          "height": 88
        },
        "outputId": "5e093de8-ffc6-452b-fe96-21f1c8ced723"
      },
      "source": [
        "fname = input(\"Enter file name: \")\n",
        "char_words = 0\n",
        "with open(fname, 'r') as f:\n",
        "    for line in f:\n",
        "        words = line.split()\n",
        "        for char in words:\n",
        "          if(len(char)>1):\n",
        "            char_words += len(char)\n",
        "print(\"Number of characters: \")\n",
        "print(char_words)\n"
      ],
      "execution_count": 22,
      "outputs": [
        {
          "output_type": "stream",
          "text": [
            "Enter file name: Sample.txt\n",
            "Number of characters: \n",
            "90\n"
          ],
          "name": "stdout"
        }
      ]
    },
    {
      "cell_type": "markdown",
      "metadata": {
        "id": "WUCBuAhlzDxl",
        "colab_type": "text"
      },
      "source": [
        "#2. Python Program to print all the numbers present in a text file with its total number of occurrence"
      ]
    },
    {
      "cell_type": "markdown",
      "metadata": {
        "id": "p2m5_Mxy8Zys",
        "colab_type": "text"
      },
      "source": [
        ""
      ]
    },
    {
      "cell_type": "code",
      "metadata": {
        "id": "FKptYy37DkZE",
        "colab_type": "code",
        "colab": {
          "base_uri": "https://localhost:8080/",
          "height": 105
        },
        "outputId": "011592ac-f5e1-4be0-cef1-cb63910d59db"
      },
      "source": [
        "fname = input(\"Enter file name: \")\n",
        "text = open(fname, \"r\") \n",
        "  \n",
        "num=[0,1,2,3,4,5,6,7,8,9]\n",
        "d = dict() \n",
        "\n",
        "\n",
        "for line in text: \n",
        "    line = line.strip() \n",
        "    line = line.lower() \n",
        "    words = line.split(\" \") \n",
        "    for word in words: \n",
        "        for dig in word:\n",
        "          #print(digit)\n",
        "          if(dig.isdigit()):\n",
        "            #print(dig)\n",
        "            if (dig in d): \n",
        "              #print(dig)\n",
        "              d[dig] = d[dig] + 1\n",
        "            else:\n",
        "              d[dig] = 1\n",
        "  \n",
        "for key in list(d.keys()): \n",
        "    print(key, \":\", d[key]) \n"
      ],
      "execution_count": 50,
      "outputs": [
        {
          "output_type": "stream",
          "text": [
            "Enter file name: Sample.txt\n",
            "1 : 2\n",
            "2 : 2\n",
            "3 : 1\n"
          ],
          "name": "stdout"
        }
      ]
    },
    {
      "cell_type": "code",
      "metadata": {
        "id": "CslQf3xyrkLQ",
        "colab_type": "code",
        "colab": {}
      },
      "source": [
        ""
      ],
      "execution_count": 0,
      "outputs": []
    },
    {
      "cell_type": "markdown",
      "metadata": {
        "id": "WAzacQjfFnXm",
        "colab_type": "text"
      },
      "source": [
        "#3. Python Program to append the contents of one file to another file by getting the both file names through keyboard . "
      ]
    },
    {
      "cell_type": "code",
      "metadata": {
        "id": "ijowWrXSFz-S",
        "colab_type": "code",
        "colab": {
          "base_uri": "https://localhost:8080/",
          "height": 71
        },
        "outputId": "37365656-8ac7-46f2-bde6-934c095a9144"
      },
      "source": [
        "source=input(\"Enter source file \")\n",
        "dest=input(\"Enter destination file\")\n",
        "with open(source) as f:\n",
        "    with open(dest, \"a\") as f1:\n",
        "        for line in f:\n",
        "            f1.write(line)"
      ],
      "execution_count": 41,
      "outputs": [
        {
          "output_type": "stream",
          "text": [
            "Enter source file Sample.txt\n",
            "Enter destination fileout.txt\n"
          ],
          "name": "stdout"
        }
      ]
    },
    {
      "cell_type": "markdown",
      "metadata": {
        "id": "vyFviNYRGwTe",
        "colab_type": "text"
      },
      "source": [
        "#4. Python Program to count the number of blank spaces in a text file. "
      ]
    },
    {
      "cell_type": "code",
      "metadata": {
        "id": "zdpsQHrnG3LH",
        "colab_type": "code",
        "colab": {
          "base_uri": "https://localhost:8080/",
          "height": 68
        },
        "outputId": "58ed5e45-13fb-47f3-ba25-8da15f474e3e"
      },
      "source": [
        "fname = input(\"Enter file name: \")\n",
        "k = 0\n",
        " \n",
        "with open(fname, 'r') as f:\n",
        "  for line in f:\n",
        "    words = line.split()\n",
        "    for i in words:\n",
        "      for letter in i:\n",
        "        if(letter.isspace):\n",
        "          k=k+1\n",
        "print(\"Occurrences of blank spaces:\")\n",
        "print(k)"
      ],
      "execution_count": 83,
      "outputs": [
        {
          "output_type": "stream",
          "text": [
            "Enter file name: Sample.txt\n",
            "Occurrences of blank spaces:\n",
            "105\n"
          ],
          "name": "stdout"
        }
      ]
    },
    {
      "cell_type": "code",
      "metadata": {
        "id": "ilJ8_YxYGnML",
        "colab_type": "code",
        "colab": {}
      },
      "source": [
        ""
      ],
      "execution_count": 0,
      "outputs": []
    },
    {
      "cell_type": "markdown",
      "metadata": {
        "id": "F1XOZbLqKqyx",
        "colab_type": "text"
      },
      "source": [
        "#5. Python Program to read a file and capitalize the first letter of every word in the file and copy the every word capitalized content  into another file and read it ."
      ]
    },
    {
      "cell_type": "code",
      "metadata": {
        "id": "3Pl9-RKcKyBF",
        "colab_type": "code",
        "colab": {
          "base_uri": "https://localhost:8080/",
          "height": 173
        },
        "outputId": "e615fd62-2c61-47b5-de88-6d8b05cd4ea8"
      },
      "source": [
        "fname = input(\"Enter file name: \")\n",
        "with open(fname, 'r') as f:\n",
        "  with open(\"out.txt\", \"w\") as f1:\n",
        "    for line in f:\n",
        "        l=line.title()\n",
        "        f1.write(l)\n",
        "file2=open(\"out.txt\",'r')\n",
        "line=file2.readline()\n",
        "while(line!=\"\"):\n",
        "    print(line)\n",
        "    line=file2.readline()\n",
        "file2.close()"
      ],
      "execution_count": 81,
      "outputs": [
        {
          "output_type": "stream",
          "text": [
            "Enter file name: Sample.txt\n",
            "1Sthe Lord Is My Shepherd I Shall Not Want. \n",
            "\n",
            "He Lies Me In The Green Pastures. \n",
            "\n",
            "He Leads Me Besides The Still Waters.\n",
            "\n",
            "Psalms 23:1-2\n"
          ],
          "name": "stdout"
        }
      ]
    },
    {
      "cell_type": "code",
      "metadata": {
        "id": "PUpkQhT6Lq68",
        "colab_type": "code",
        "colab": {}
      },
      "source": [
        ""
      ],
      "execution_count": 0,
      "outputs": []
    }
  ]
}