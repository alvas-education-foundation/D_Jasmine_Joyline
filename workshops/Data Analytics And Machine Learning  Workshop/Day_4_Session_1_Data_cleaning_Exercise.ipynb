{
  "nbformat": 4,
  "nbformat_minor": 0,
  "metadata": {
    "colab": {
      "name": "Day 4 Session 1 Data cleaning Exercise.ipynb",
      "provenance": [],
      "collapsed_sections": []
    },
    "kernelspec": {
      "name": "python3",
      "display_name": "Python 3"
    }
  },
  "cells": [
    {
      "cell_type": "code",
      "metadata": {
        "id": "SaJmN5ebjJ1p",
        "colab_type": "code",
        "colab": {}
      },
      "source": [
        ""
      ],
      "execution_count": null,
      "outputs": []
    },
    {
      "cell_type": "markdown",
      "metadata": {
        "id": "WqFiMq7pj9r8",
        "colab_type": "text"
      },
      "source": [
        "#CASE STUDY 1\n",
        "\n",
        "#Data cleaning for property_data1.csv file\n",
        "\n",
        "#Data Cleaning is the process of preventing and correcting the errors such as duplicates, misssing values and incomplet data by importing libraries pandas and numpy\n",
        "\n"
      ]
    },
    {
      "cell_type": "code",
      "metadata": {
        "id": "F1Hfzeopj_fK",
        "colab_type": "code",
        "colab": {}
      },
      "source": [
        "import pandas as pd\n",
        "import numpy as np"
      ],
      "execution_count": null,
      "outputs": []
    },
    {
      "cell_type": "markdown",
      "metadata": {
        "id": "sOuq0JZGkTvl",
        "colab_type": "text"
      },
      "source": [
        "#Coding for importing csv files in Google colab\n",
        "# Read csv file property_data.csv into a pandas dataframe"
      ]
    },
    {
      "cell_type": "code",
      "metadata": {
        "id": "XCdCfnIqkVAw",
        "colab_type": "code",
        "colab": {}
      },
      "source": [
        "from google.colab import files\n",
        "import io\n",
        "uploaded = files.upload()\n",
        "df = pd.read_csv(io.BytesIO(uploaded['property_data1.csv']))\n"
      ],
      "execution_count": null,
      "outputs": []
    },
    {
      "cell_type": "markdown",
      "metadata": {
        "id": "z0fTgyd0kZZT",
        "colab_type": "text"
      },
      "source": [
        "# Take a look at the first few rows"
      ]
    },
    {
      "cell_type": "code",
      "metadata": {
        "id": "JEWz9bVVkn4M",
        "colab_type": "code",
        "colab": {}
      },
      "source": [
        "print(df)"
      ],
      "execution_count": null,
      "outputs": []
    },
    {
      "cell_type": "markdown",
      "metadata": {
        "id": "m6kXO1Wzky5A",
        "colab_type": "text"
      },
      "source": [
        "#Looking at the ST_NUM and NUM_ROOMS columns whether they have any null values\n"
      ]
    },
    {
      "cell_type": "code",
      "metadata": {
        "id": "14gVJ7tHk3Fh",
        "colab_type": "code",
        "colab": {}
      },
      "source": [
        "print (df['ST_NUM'])\n",
        "print (df['ST_NUM'].isnull())\n",
        "print(df['NUM_ROOMS'])\n",
        "print(df['NUM_ROOMS'].isnull())\n"
      ],
      "execution_count": null,
      "outputs": []
    },
    {
      "cell_type": "markdown",
      "metadata": {
        "id": "RYOvc35Lk7se",
        "colab_type": "text"
      },
      "source": [
        "\n",
        "#To mention possible missing values while opening the file\n"
      ]
    },
    {
      "cell_type": "code",
      "metadata": {
        "id": "kcZo6_6gk-3_",
        "colab_type": "code",
        "colab": {}
      },
      "source": [
        "\n",
        "print(df['NUM_ROOMS'])\n",
        "print(df['NUM_ROOMS'].isnull())\n"
      ],
      "execution_count": null,
      "outputs": []
    },
    {
      "cell_type": "markdown",
      "metadata": {
        "id": "0K0tSo0WlD0c",
        "colab_type": "text"
      },
      "source": [
        "\n",
        "#The above 3,4 5th index is not numeric whih needs correction again therefore we need coding part for it. It is corrected with coding below\n"
      ]
    },
    {
      "cell_type": "code",
      "metadata": {
        "id": "Yxyd0NM4lIqa",
        "colab_type": "code",
        "colab": {}
      },
      "source": [
        "\n",
        "cnt = 0\n",
        "for row in df['NUM_ROOMS']: \n",
        "  try:\n",
        "    int(row) \n",
        "  except ValueError:\n",
        "    df.loc[cnt, 'NUM_ROOMS']=np.nan \n",
        "  cnt+=1\n",
        "print(df['NUM_ROOMS'])\n",
        "print(df['NUM_ROOMS'].isnull())\n",
        "\n",
        "\n",
        "print(df['OWN_OCCUPIED'])\n",
        "print(df['OWN_OCCUPIED'].isnull())\n",
        "\n"
      ],
      "execution_count": null,
      "outputs": []
    },
    {
      "cell_type": "markdown",
      "metadata": {
        "id": "v9yyM5whlZUa",
        "colab_type": "text"
      },
      "source": [
        "\n",
        "#The above 4 th index is numeric which needs correction again therefore we need coding part for it. It is corrected with coding below\n"
      ]
    },
    {
      "cell_type": "code",
      "metadata": {
        "id": "9a8cdiruldXZ",
        "colab_type": "code",
        "colab": {}
      },
      "source": [
        "cnt=0\n",
        "for row in df['OWN_OCCUPIED']:\n",
        "    try:\n",
        "        int(row)\n",
        "        df.loc[cnt, 'OWN_OCCUPIED']=np.nan\n",
        "    except ValueError:\n",
        "        pass\n",
        "    cnt+=1\n",
        "print(df['OWN_OCCUPIED'])\n",
        "print(df['OWN_OCCUPIED'].isnull())\n"
      ],
      "execution_count": null,
      "outputs": []
    },
    {
      "cell_type": "markdown",
      "metadata": {
        "id": "DQmJ9Wrmlob8",
        "colab_type": "text"
      },
      "source": [
        "# Total missing values for each feature"
      ]
    },
    {
      "cell_type": "code",
      "metadata": {
        "id": "XNo0dg0plsGf",
        "colab_type": "code",
        "colab": {}
      },
      "source": [
        "print(df.isnull().sum())\n",
        "print('Total missing values')\n",
        "print(sum(df.isnull().sum()))\n"
      ],
      "execution_count": null,
      "outputs": []
    },
    {
      "cell_type": "markdown",
      "metadata": {
        "id": "4uVgKpZllvEq",
        "colab_type": "text"
      },
      "source": [
        "\n",
        "#Finding TOTAL missing of each mission fields and Total number of missing values\n"
      ]
    },
    {
      "cell_type": "code",
      "metadata": {
        "id": "Wn__pv8rl3yX",
        "colab_type": "code",
        "colab": {}
      },
      "source": [
        "\n",
        "print(df['ST_NUM'].isnull().sum()) \n",
        "print(df['ST_NAME'].isnull().sum()) \n",
        "print(df['NUM_ROOMS'].isnull().sum()) \n",
        "print(df['OWN_OCCUPIED'].isnull().sum()) \n",
        "print(df.isnull().sum().sum())\n"
      ],
      "execution_count": null,
      "outputs": []
    },
    {
      "cell_type": "markdown",
      "metadata": {
        "id": "bx5Unmzel0GZ",
        "colab_type": "text"
      },
      "source": [
        "\n",
        "#Finding COUNT AND average of missing of each mission fields and Total number of df.shape\n"
      ]
    },
    {
      "cell_type": "code",
      "metadata": {
        "id": "KJzsGtZll_NP",
        "colab_type": "code",
        "colab": {}
      },
      "source": [
        "\n",
        "print(df['ST_NUM'].isnull().sum()/9.0)\n",
        "print(df['ST_NAME'].isnull().sum()/9.0) \n",
        "print(df['NUM_ROOMS'].isnull().sum()/9.0) \n",
        "print(df['OWN_OCCUPIED'].isnull().sum()/9.0)\n"
      ],
      "execution_count": null,
      "outputs": []
    },
    {
      "cell_type": "markdown",
      "metadata": {
        "id": "pZZm_7OvmC5I",
        "colab_type": "text"
      },
      "source": [
        "\n",
        "# error percentages are greater than 10%\n",
        "# Replace missing values with a number\n"
      ]
    },
    {
      "cell_type": "code",
      "metadata": {
        "id": "S_QgZtANmGxQ",
        "colab_type": "code",
        "colab": {}
      },
      "source": [
        "df['ST_NUM'].fillna(125, inplace=True)\n",
        "print('   ST_NUM')\n",
        "print(df['ST_NUM'])\n",
        "\n"
      ],
      "execution_count": null,
      "outputs": []
    },
    {
      "cell_type": "markdown",
      "metadata": {
        "id": "3EWzhLVdmP8a",
        "colab_type": "text"
      },
      "source": [
        "# Replace using median "
      ]
    },
    {
      "cell_type": "code",
      "metadata": {
        "id": "pNu2ybSemTBX",
        "colab_type": "code",
        "colab": {}
      },
      "source": [
        "median = df['NUM_ROOMS'].median()\n",
        "df['NUM_ROOMS'].fillna(median, inplace=True)\n",
        "print(df['NUM_ROOMS'])\n",
        "\n",
        "\n",
        "print(df)\n",
        "\n"
      ],
      "execution_count": null,
      "outputs": []
    },
    {
      "cell_type": "markdown",
      "metadata": {
        "id": "QcSMrdp3mW5C",
        "colab_type": "text"
      },
      "source": [
        "\n",
        "#To find the maxmum occurrence of the values in the attribute OWN_OCCUPIED\n",
        "\n"
      ]
    },
    {
      "cell_type": "code",
      "metadata": {
        "id": "pYy1XzqPmayH",
        "colab_type": "code",
        "colab": {}
      },
      "source": [
        "\n",
        "df['OWN_OCCUPIED'].value_counts().idxmax()\n",
        "\n",
        "df\n"
      ],
      "execution_count": null,
      "outputs": []
    },
    {
      "cell_type": "markdown",
      "metadata": {
        "id": "o3jcPwrVmdwK",
        "colab_type": "text"
      },
      "source": [
        "#Finding all values occurrence"
      ]
    },
    {
      "cell_type": "code",
      "metadata": {
        "id": "q-Z0yhKfmiKE",
        "colab_type": "code",
        "colab": {}
      },
      "source": [
        "\n",
        "df['OWN_OCCUPIED'].value_counts()\n",
        "\n"
      ],
      "execution_count": null,
      "outputs": []
    },
    {
      "cell_type": "markdown",
      "metadata": {
        "id": "bLOYA1g4mzwl",
        "colab_type": "text"
      },
      "source": [
        "\n",
        "#Replacing all NaN in ST_NUM with some random value 125\n"
      ]
    },
    {
      "cell_type": "code",
      "metadata": {
        "id": "ZbIFeLQ8m2zF",
        "colab_type": "code",
        "colab": {}
      },
      "source": [
        "df['ST_NUM'].fillna(125)\n",
        "\n",
        "df"
      ],
      "execution_count": null,
      "outputs": []
    },
    {
      "cell_type": "markdown",
      "metadata": {
        "id": "0Qa7o6Kbm8_v",
        "colab_type": "text"
      },
      "source": [
        "\n",
        "#Replacing all NaN in own_occupied with N is justified as its occurrence is more\n"
      ]
    },
    {
      "cell_type": "code",
      "metadata": {
        "id": "fihuwB4WnW5n",
        "colab_type": "code",
        "colab": {}
      },
      "source": [
        "\n",
        "df['OWN_OCCUPIED'].fillna('N',inplace=True)\n",
        "df\n",
        "\n"
      ],
      "execution_count": null,
      "outputs": []
    },
    {
      "cell_type": "markdown",
      "metadata": {
        "id": "_pnl3wArkLIH",
        "colab_type": "text"
      },
      "source": [
        ""
      ]
    }
  ]
}