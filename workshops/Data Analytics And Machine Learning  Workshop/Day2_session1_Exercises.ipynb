{
  "nbformat": 4,
  "nbformat_minor": 0,
  "metadata": {
    "colab": {
      "name": "Day2  session1 Exercises.ipynb",
      "provenance": [],
      "collapsed_sections": []
    },
    "kernelspec": {
      "name": "python3",
      "display_name": "Python 3"
    }
  },
  "cells": [
    {
      "cell_type": "code",
      "metadata": {
        "id": "aHlOGo7nyh0l",
        "colab_type": "code",
        "colab": {}
      },
      "source": [
        ""
      ],
      "execution_count": 0,
      "outputs": []
    },
    {
      "cell_type": "markdown",
      "metadata": {
        "id": "IEo692jVytWV",
        "colab_type": "text"
      },
      "source": [
        "#**List exercises**"
      ]
    },
    {
      "cell_type": "markdown",
      "metadata": {
        "id": "WxkrrbD9yzX8",
        "colab_type": "text"
      },
      "source": [
        "#1. Print multiples of 3 upto 200 using a list"
      ]
    },
    {
      "cell_type": "code",
      "metadata": {
        "id": "ypNI0Hnty8zo",
        "colab_type": "code",
        "colab": {
          "base_uri": "https://localhost:8080/",
          "height": 54
        },
        "outputId": "12cc3f36-6190-4322-d69b-0471928f228d"
      },
      "source": [
        "l_range=3\n",
        "u_range=200\n",
        "a=[ x for x in range(l_range,u_range+1) if x%3==0]\n",
        "print(a)"
      ],
      "execution_count": 2,
      "outputs": [
        {
          "output_type": "stream",
          "text": [
            "[3, 6, 9, 12, 15, 18, 21, 24, 27, 30, 33, 36, 39, 42, 45, 48, 51, 54, 57, 60, 63, 66, 69, 72, 75, 78, 81, 84, 87, 90, 93, 96, 99, 102, 105, 108, 111, 114, 117, 120, 123, 126, 129, 132, 135, 138, 141, 144, 147, 150, 153, 156, 159, 162, 165, 168, 171, 174, 177, 180, 183, 186, 189, 192, 195, 198]\n"
          ],
          "name": "stdout"
        }
      ]
    },
    {
      "cell_type": "code",
      "metadata": {
        "id": "F97rngRqzUYY",
        "colab_type": "code",
        "colab": {}
      },
      "source": [
        ""
      ],
      "execution_count": 0,
      "outputs": []
    },
    {
      "cell_type": "markdown",
      "metadata": {
        "id": "GDSOu59rzu8K",
        "colab_type": "text"
      },
      "source": [
        "#2. Print the nos only divisible by 5 and 7 between 1000 and 2000 using a list( both inclusive)"
      ]
    },
    {
      "cell_type": "code",
      "metadata": {
        "id": "AFXR8eB7z2CR",
        "colab_type": "code",
        "colab": {
          "base_uri": "https://localhost:8080/",
          "height": 54
        },
        "outputId": "27d5a6dd-2cad-4573-f33f-bc0cc312f1f3"
      },
      "source": [
        "l_range=1000\n",
        "u_range=2000\n",
        "a=[ x for x in range(l_range,u_range+1) if (x%5==0 and x%7==0)]\n",
        "print(a)"
      ],
      "execution_count": 3,
      "outputs": [
        {
          "output_type": "stream",
          "text": [
            "[1015, 1050, 1085, 1120, 1155, 1190, 1225, 1260, 1295, 1330, 1365, 1400, 1435, 1470, 1505, 1540, 1575, 1610, 1645, 1680, 1715, 1750, 1785, 1820, 1855, 1890, 1925, 1960, 1995]\n"
          ],
          "name": "stdout"
        }
      ]
    },
    {
      "cell_type": "code",
      "metadata": {
        "id": "_QlXVaAl0Vyy",
        "colab_type": "code",
        "colab": {}
      },
      "source": [
        ""
      ],
      "execution_count": 0,
      "outputs": []
    },
    {
      "cell_type": "markdown",
      "metadata": {
        "id": "fLrrG_OU0YXg",
        "colab_type": "text"
      },
      "source": [
        "#3. Add the n number of names in a list and print them alphabetically and reverse alphabetically.\n",
        "\n"
      ]
    },
    {
      "cell_type": "code",
      "metadata": {
        "id": "LVWQaAAo04L-",
        "colab_type": "code",
        "colab": {
          "base_uri": "https://localhost:8080/",
          "height": 139
        },
        "outputId": "19910505-db45-46b9-d106-884e81a5c8bf"
      },
      "source": [
        "l=[]\n",
        "n=int(input(\"Enter the value of n \"))\n",
        "for i in range(n):\n",
        "  name=input(\"Enter name \")\n",
        "  l.append(name)\n",
        "l.sort()\n",
        "print(l)\n",
        "l.sort(reverse=True)\n",
        "print(l)\n"
      ],
      "execution_count": 7,
      "outputs": [
        {
          "output_type": "stream",
          "text": [
            "Enter the value of n 3\n",
            "Enter name Jasmine\n",
            "Enter name Sudha\n",
            "Enter name Parimala\n",
            "['Jasmine', 'Parimala', 'Sudha']\n",
            "['Sudha', 'Parimala', 'Jasmine']\n"
          ],
          "name": "stdout"
        }
      ]
    },
    {
      "cell_type": "markdown",
      "metadata": {
        "id": "Ao_bvOlz3gFU",
        "colab_type": "text"
      },
      "source": [
        "#4. Print  perfect squares and divisible by 5 between 500 and 1000( (both inclusive) using list"
      ]
    },
    {
      "cell_type": "code",
      "metadata": {
        "id": "baCVdLi83m76",
        "colab_type": "code",
        "colab": {
          "base_uri": "https://localhost:8080/",
          "height": 34
        },
        "outputId": "f36bd3e4-a8a0-4903-ee59-5603b88557b4"
      },
      "source": [
        "import math\n",
        "def perfect(num):\n",
        "  root = math.sqrt(num)\n",
        "  if int(root + 0.5) ** 2 == num:\n",
        "    return True\n",
        "  else:\n",
        "    return False\n",
        "\n",
        "l_range=500\n",
        "u_range=1000\n",
        "a=[ x for x in range(l_range,u_range+1) if (perfect(x) and x%5==0)]\n",
        "print(a)"
      ],
      "execution_count": 9,
      "outputs": [
        {
          "output_type": "stream",
          "text": [
            "[625, 900]\n"
          ],
          "name": "stdout"
        }
      ]
    },
    {
      "cell_type": "markdown",
      "metadata": {
        "id": "9FM-NByi4tXy",
        "colab_type": "text"
      },
      "source": [
        "#**Tuple exercises**"
      ]
    },
    {
      "cell_type": "markdown",
      "metadata": {
        "id": "bOnHfZ8d5euQ",
        "colab_type": "text"
      },
      "source": [
        "#1. Get  a string and store word by word as elements in a tuple and find the largest word in the  tuple and print it"
      ]
    },
    {
      "cell_type": "code",
      "metadata": {
        "id": "sVhzYj5B5dMy",
        "colab_type": "code",
        "colab": {
          "base_uri": "https://localhost:8080/",
          "height": 71
        },
        "outputId": "368d1a52-c97c-4672-8b11-65b5607aa370"
      },
      "source": [
        "l=[]\n",
        "string=input(\"Enter the string \")\n",
        "for word in string.split():\n",
        "  l.append((len(word),word))\n",
        "l.sort(reverse=True)\n",
        "res = list()\n",
        "for length, word in l:\n",
        "    res.append(word)\n",
        "print(\"The largest word is \",res[0])\n"
      ],
      "execution_count": 18,
      "outputs": [
        {
          "output_type": "stream",
          "text": [
            "Enter the string The Lord will bless you from zion\n",
            "The largest word is  bless\n"
          ],
          "name": "stdout"
        }
      ]
    },
    {
      "cell_type": "markdown",
      "metadata": {
        "id": "7mtHfDu1CHqm",
        "colab_type": "text"
      },
      "source": [
        "#2. Get rollno and marks (Rollno, mark) as list of tuples for n number of students through keyboard  and print them in marks descending order with rollno."
      ]
    },
    {
      "cell_type": "code",
      "metadata": {
        "id": "QTC7iqBQCPyA",
        "colab_type": "code",
        "colab": {
          "base_uri": "https://localhost:8080/",
          "height": 241
        },
        "outputId": "9f91947e-a1c4-459e-840e-93181b170d1c"
      },
      "source": [
        "from operator import itemgetter\n",
        "l=[]\n",
        "n=int(input(\"Enter the value of n \"))\n",
        "for i in range(n):\n",
        "  rollno=int(input(\"Enter Rollno \"))\n",
        "  mark=int(input(\"Enter marks \"))\n",
        "  l.append((rollno,mark))\n",
        "list_des=sorted(l,key=itemgetter(1),reverse=True)\n",
        "print(list_des)"
      ],
      "execution_count": 21,
      "outputs": [
        {
          "output_type": "stream",
          "text": [
            "Enter the value of n 5\n",
            "Enter Rollno 2\n",
            "Enter marks 56\n",
            "Enter Rollno 1\n",
            "Enter marks 96\n",
            "Enter Rollno 5\n",
            "Enter marks 82\n",
            "Enter Rollno 7\n",
            "Enter marks 100\n",
            "Enter Rollno 10\n",
            "Enter marks 90\n",
            "[(7, 100), (1, 96), (10, 90), (5, 82), (2, 56)]\n"
          ],
          "name": "stdout"
        }
      ]
    },
    {
      "cell_type": "markdown",
      "metadata": {
        "id": "2h9DwIE7F3Er",
        "colab_type": "text"
      },
      "source": [
        "#3. Get name and salary (name, salary) as list of tuples for n number of employees through keyboard  and print them in name alphabetical order with salary"
      ]
    },
    {
      "cell_type": "code",
      "metadata": {
        "id": "lp2OnkjQF-_H",
        "colab_type": "code",
        "colab": {
          "base_uri": "https://localhost:8080/",
          "height": 241
        },
        "outputId": "96f490c3-5874-4acb-cd60-fb64a0d1eb79"
      },
      "source": [
        "from operator import itemgetter\n",
        "l=[]\n",
        "n=int(input(\"Enter the value of n \"))\n",
        "for i in range(n):\n",
        "  name=input(\"Enter Name \")\n",
        "  salary=int(input(\"Enter salary \"))\n",
        "  l.append((name,salary))\n",
        "list_asc=sorted(l,key=itemgetter(0))\n",
        "print(list_asc)"
      ],
      "execution_count": 22,
      "outputs": [
        {
          "output_type": "stream",
          "text": [
            "Enter the value of n 5\n",
            "Enter Name Joy\n",
            "Enter salary 50000\n",
            "Enter Name Jessie\n",
            "Enter salary 75000\n",
            "Enter Name Sudha\n",
            "Enter salary 100000\n",
            "Enter Name Parimala\n",
            "Enter salary 65000\n",
            "Enter Name Pradvi\n",
            "Enter salary 65000\n",
            "[('Jessie', 75000), ('Joy', 50000), ('Parimala', 65000), ('Pradvi', 65000), ('Sudha', 100000)]\n"
          ],
          "name": "stdout"
        }
      ]
    },
    {
      "cell_type": "code",
      "metadata": {
        "id": "_8MGbLFa1vIu",
        "colab_type": "code",
        "colab": {}
      },
      "source": [
        ""
      ],
      "execution_count": 0,
      "outputs": []
    }
  ]
}