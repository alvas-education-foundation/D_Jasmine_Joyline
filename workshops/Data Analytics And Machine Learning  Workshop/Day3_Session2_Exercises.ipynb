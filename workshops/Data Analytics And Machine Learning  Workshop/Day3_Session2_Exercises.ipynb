{
  "nbformat": 4,
  "nbformat_minor": 0,
  "metadata": {
    "colab": {
      "name": "Day3 Session2 Exercises.ipynb",
      "provenance": [],
      "collapsed_sections": []
    },
    "kernelspec": {
      "name": "python3",
      "display_name": "Python 3"
    }
  },
  "cells": [
    {
      "cell_type": "code",
      "metadata": {
        "id": "vtZpAadSmRXg",
        "colab_type": "code",
        "colab": {}
      },
      "source": [
        ""
      ],
      "execution_count": null,
      "outputs": []
    },
    {
      "cell_type": "markdown",
      "metadata": {
        "id": "Ty7-VLNPmyTU",
        "colab_type": "text"
      },
      "source": [
        "1.Write a Pandas program to create and display a one-dimensional array using series containing event numbers upto 10000\n",
        "tip : use List Comprehension ds = pd.Series([0,2, 4, 6, 8..... 10000])\n",
        "Code:-"
      ]
    },
    {
      "cell_type": "code",
      "metadata": {
        "id": "wkrjH9Emm7W5",
        "colab_type": "code",
        "colab": {}
      },
      "source": [
        "import pandas as pd\n",
        "ds = pd.Series([x for x in range(1000) if x%2==0])\n",
        "print(ds)"
      ],
      "execution_count": null,
      "outputs": []
    },
    {
      "cell_type": "markdown",
      "metadata": {
        "id": "N3PBp7MwnGSd",
        "colab_type": "text"
      },
      "source": [
        "2.Write a Pandas program to convert a Panda module Series of the numbers which are between 1000 and 2000 (both inclusive) and divisable by 5 to Python list and after convertion print its type\n"
      ]
    },
    {
      "cell_type": "code",
      "metadata": {
        "id": "T2gH4N6EnHg9",
        "colab_type": "code",
        "colab": {
          "base_uri": "https://localhost:8080/",
          "height": 221
        },
        "outputId": "2782bdf4-2641-4a08-f2b0-6cde9fdc96c0"
      },
      "source": [
        "import pandas as pd\n",
        "ds = pd.Series([x for x in range(1000,2000) if x%5==0])\n",
        "print(ds)\n"
      ],
      "execution_count": 1,
      "outputs": [
        {
          "output_type": "stream",
          "text": [
            "0      1000\n",
            "1      1005\n",
            "2      1010\n",
            "3      1015\n",
            "4      1020\n",
            "       ... \n",
            "195    1975\n",
            "196    1980\n",
            "197    1985\n",
            "198    1990\n",
            "199    1995\n",
            "Length: 200, dtype: int64\n"
          ],
          "name": "stdout"
        }
      ]
    },
    {
      "cell_type": "markdown",
      "metadata": {
        "id": "VJY3FNLpnQx_",
        "colab_type": "text"
      },
      "source": [
        "Write a Pandas program to create and display a one-dimensional array using series containing event numbers upto 10000\n",
        "tip : use List Comprehension ds = pd.Series([0,2, 4, 6, 8..... 10000])\n"
      ]
    },
    {
      "cell_type": "code",
      "metadata": {
        "id": "8ReRKgEmnWvc",
        "colab_type": "code",
        "colab": {
          "base_uri": "https://localhost:8080/",
          "height": 221
        },
        "outputId": "8cac266b-5ecb-4e5c-80dc-279f119f1090"
      },
      "source": [
        "import pandas as pd\n",
        "ds = pd.Series([x for x in range(1000) if x%2==0])\n",
        "print(ds)\n"
      ],
      "execution_count": 2,
      "outputs": [
        {
          "output_type": "stream",
          "text": [
            "0        0\n",
            "1        2\n",
            "2        4\n",
            "3        6\n",
            "4        8\n",
            "      ... \n",
            "495    990\n",
            "496    992\n",
            "497    994\n",
            "498    996\n",
            "499    998\n",
            "Length: 500, dtype: int64\n"
          ],
          "name": "stdout"
        }
      ]
    },
    {
      "cell_type": "code",
      "metadata": {
        "id": "9ncs298qm9xm",
        "colab_type": "code",
        "colab": {}
      },
      "source": [
        ""
      ],
      "execution_count": null,
      "outputs": []
    },
    {
      "cell_type": "markdown",
      "metadata": {
        "id": "QXa5Yup1nZgM",
        "colab_type": "text"
      },
      "source": [
        "Write a Pandas program to convert a Panda module Series of the numbers which are between 1000 and 2000 (both inclusive) and divisable by 5 to Python list and after convertion print its type\n"
      ]
    },
    {
      "cell_type": "code",
      "metadata": {
        "id": "88DHZzsmnhRq",
        "colab_type": "code",
        "colab": {
          "base_uri": "https://localhost:8080/",
          "height": 221
        },
        "outputId": "c5609560-120b-488f-d399-1960f514d92d"
      },
      "source": [
        "import pandas as pd\n",
        "ds = pd.Series([x for x in range(1000,2000) if x%5==0])\n",
        "print(ds)"
      ],
      "execution_count": 3,
      "outputs": [
        {
          "output_type": "stream",
          "text": [
            "0      1000\n",
            "1      1005\n",
            "2      1010\n",
            "3      1015\n",
            "4      1020\n",
            "       ... \n",
            "195    1975\n",
            "196    1980\n",
            "197    1985\n",
            "198    1990\n",
            "199    1995\n",
            "Length: 200, dtype: int64\n"
          ],
          "name": "stdout"
        }
      ]
    },
    {
      "cell_type": "markdown",
      "metadata": {
        "id": "16NCdxT8ntnf",
        "colab_type": "text"
      },
      "source": [
        "Write a Pandas program to add, subtract, multiple and divide two Pandas Series and print their results using the Sample Series: [2, 4, 6, 8, ...100], [1, 3, 5, 7, 9...99]\n"
      ]
    },
    {
      "cell_type": "code",
      "metadata": {
        "id": "I9xKCpAqnuqz",
        "colab_type": "code",
        "colab": {
          "base_uri": "https://localhost:8080/",
          "height": 493
        },
        "outputId": "f4913a82-8e7b-4982-94f5-9ee1e3bff3ac"
      },
      "source": [
        "import pandas as pd\n",
        "ds1 = pd.Series([2, 4, 6, 8, 10])\n",
        "ds2 = pd.Series([1, 3, 5, 7, 9])\n",
        "ds = ds1 + ds2\n",
        "print(\"Add two Series:\")\n",
        "print(ds)\n",
        "print(\"Subtract two Series:\")\n",
        "ds = ds1 - ds2\n",
        "print(ds)\n",
        "print(\"Multiply two Series:\")\n",
        "ds = ds1 * ds2\n",
        "print(ds)\n",
        "print(\"Divide Series1 by Series2:\")\n",
        "ds = ds1 / ds2\n",
        "print(ds)"
      ],
      "execution_count": 4,
      "outputs": [
        {
          "output_type": "stream",
          "text": [
            "Add two Series:\n",
            "0     3\n",
            "1     7\n",
            "2    11\n",
            "3    15\n",
            "4    19\n",
            "dtype: int64\n",
            "Subtract two Series:\n",
            "0    1\n",
            "1    1\n",
            "2    1\n",
            "3    1\n",
            "4    1\n",
            "dtype: int64\n",
            "Multiply two Series:\n",
            "0     2\n",
            "1    12\n",
            "2    30\n",
            "3    56\n",
            "4    90\n",
            "dtype: int64\n",
            "Divide Series1 by Series2:\n",
            "0    2.000000\n",
            "1    1.333333\n",
            "2    1.200000\n",
            "3    1.142857\n",
            "4    1.111111\n",
            "dtype: float64\n"
          ],
          "name": "stdout"
        }
      ]
    },
    {
      "cell_type": "markdown",
      "metadata": {
        "id": "koR1edwuo1Pi",
        "colab_type": "text"
      },
      "source": [
        "Write a Pandas program to compare (Equivalence, greater than, less than, not equal to )the elements of the two Pandas Series.\n",
        "Sample Series: [All positive numbers divisable by 7 upto 1000], [All positive numbers divisable by 11 upto 1000]\n"
      ]
    },
    {
      "cell_type": "code",
      "metadata": {
        "id": "-KXfTYCCo5Pf",
        "colab_type": "code",
        "colab": {
          "base_uri": "https://localhost:8080/",
          "height": 629
        },
        "outputId": "f2c7cfa7-a2a3-4fdc-cd33-628221c3e387"
      },
      "source": [
        "import pandas as pd\n",
        "ds1 = pd.Series([2, 4, 6, 8, 10])\n",
        "ds2 = pd.Series([1, 3, 5, 7, 10])\n",
        "print(\"Series1:\")\n",
        "print(ds1)\n",
        "print(\"Series2:\")\n",
        "print(ds2)\n",
        "print(\"Compare the elements of the said Series:\")\n",
        "print(\"Equals:\")\n",
        "print(ds1 == ds2)\n",
        "print(\"Greater than:\")\n",
        "print(ds1 > ds2)\n",
        "print(\"Less than:\")\n",
        "print(ds1 < ds2)"
      ],
      "execution_count": 5,
      "outputs": [
        {
          "output_type": "stream",
          "text": [
            "Series1:\n",
            "0     2\n",
            "1     4\n",
            "2     6\n",
            "3     8\n",
            "4    10\n",
            "dtype: int64\n",
            "Series2:\n",
            "0     1\n",
            "1     3\n",
            "2     5\n",
            "3     7\n",
            "4    10\n",
            "dtype: int64\n",
            "Compare the elements of the said Series:\n",
            "Equals:\n",
            "0    False\n",
            "1    False\n",
            "2    False\n",
            "3    False\n",
            "4     True\n",
            "dtype: bool\n",
            "Greater than:\n",
            "0     True\n",
            "1     True\n",
            "2     True\n",
            "3     True\n",
            "4    False\n",
            "dtype: bool\n",
            "Less than:\n",
            "0    False\n",
            "1    False\n",
            "2    False\n",
            "3    False\n",
            "4    False\n",
            "dtype: bool\n"
          ],
          "name": "stdout"
        }
      ]
    },
    {
      "cell_type": "markdown",
      "metadata": {
        "id": "_dZQmzqqpCE0",
        "colab_type": "text"
      },
      "source": [
        "Write a Pandas program to convert a NumPy array to a Pandas series."
      ]
    },
    {
      "cell_type": "code",
      "metadata": {
        "id": "a2n-ylOepDM5",
        "colab_type": "code",
        "colab": {
          "base_uri": "https://localhost:8080/",
          "height": 170
        },
        "outputId": "47ef358c-1493-4a21-cfb4-540552cff907"
      },
      "source": [
        "import numpy as np\n",
        "import pandas as pd\n",
        "np_array = np.array([10, 20, 30, 40, 50])\n",
        "print(\"NumPy array:\")\n",
        "print(np_array)\n",
        "new_series = pd.Series(np_array)\n",
        "print(\"Converted Pandas series:\")\n",
        "print(new_series)\n"
      ],
      "execution_count": 6,
      "outputs": [
        {
          "output_type": "stream",
          "text": [
            "NumPy array:\n",
            "[10 20 30 40 50]\n",
            "Converted Pandas series:\n",
            "0    10\n",
            "1    20\n",
            "2    30\n",
            "3    40\n",
            "4    50\n",
            "dtype: int64\n"
          ],
          "name": "stdout"
        }
      ]
    },
    {
      "cell_type": "markdown",
      "metadata": {
        "id": "NJ2nJKl4m_yx",
        "colab_type": "text"
      },
      "source": [
        "Write a Pandas program to convert a given Series to an array."
      ]
    },
    {
      "cell_type": "code",
      "metadata": {
        "id": "7LKbli3kpSMN",
        "colab_type": "code",
        "colab": {
          "base_uri": "https://localhost:8080/",
          "height": 289
        },
        "outputId": "cf759bc1-e939-47f8-b8a6-134c3ab00ee5"
      },
      "source": [
        "import pandas as pd\n",
        "import numpy as np\n",
        "s1 = pd.Series(['100', '200', '300','400','500','python', '300.12', '400','is','great','language'])\n",
        "print(\"Original Data Series:\")\n",
        "print(s1)\n",
        "print(\"Series to an array\")\n",
        "a = np.array(s1.values.tolist())\n",
        "print (a)"
      ],
      "execution_count": 7,
      "outputs": [
        {
          "output_type": "stream",
          "text": [
            "Original Data Series:\n",
            "0          100\n",
            "1          200\n",
            "2          300\n",
            "3          400\n",
            "4          500\n",
            "5       python\n",
            "6       300.12\n",
            "7          400\n",
            "8           is\n",
            "9        great\n",
            "10    language\n",
            "dtype: object\n",
            "Series to an array\n",
            "['100' '200' '300' '400' '500' 'python' '300.12' '400' 'is' 'great'\n",
            " 'language']\n"
          ],
          "name": "stdout"
        }
      ]
    },
    {
      "cell_type": "markdown",
      "metadata": {
        "id": "VRo-mQoApMqm",
        "colab_type": "text"
      },
      "source": [
        "Write a Pandas program to sort a given Series."
      ]
    },
    {
      "cell_type": "code",
      "metadata": {
        "id": "s3TNNPh2pa86",
        "colab_type": "code",
        "colab": {
          "base_uri": "https://localhost:8080/",
          "height": 289
        },
        "outputId": "03267acc-7fba-4fce-cf4b-f674eeea8b62"
      },
      "source": [
        "import pandas as pd\n",
        "import numpy as np\n",
        "s1 = pd.Series(['100', '200', '300','400','500','python', '300.12', '400','is','great','language'])\n",
        "print(\"Original Data Series:\")\n",
        "print(s1)\n",
        "print(\"Series to an array\")\n",
        "a = np.array(s1.values.tolist())\n",
        "a.sort()\n",
        "print (a)\n"
      ],
      "execution_count": 8,
      "outputs": [
        {
          "output_type": "stream",
          "text": [
            "Original Data Series:\n",
            "0          100\n",
            "1          200\n",
            "2          300\n",
            "3          400\n",
            "4          500\n",
            "5       python\n",
            "6       300.12\n",
            "7          400\n",
            "8           is\n",
            "9        great\n",
            "10    language\n",
            "dtype: object\n",
            "Series to an array\n",
            "['100' '200' '300' '300.12' '400' '400' '500' 'great' 'is' 'language'\n",
            " 'python']\n"
          ],
          "name": "stdout"
        }
      ]
    },
    {
      "cell_type": "markdown",
      "metadata": {
        "id": "TaBt_aZ_o-JC",
        "colab_type": "text"
      },
      "source": [
        "Write a Pandas program to create the mean and standard deviation, maximum and minimum of the data of a given Series of the prime numbers upto 1000\n"
      ]
    },
    {
      "cell_type": "code",
      "metadata": {
        "id": "9TJEGY62pmJG",
        "colab_type": "code",
        "colab": {
          "base_uri": "https://localhost:8080/",
          "height": 306
        },
        "outputId": "28a7298d-a5dd-4998-839f-068a9553daa0"
      },
      "source": [
        "import pandas as pd\n",
        "s = pd.Series(data = [x for x in range(1000) if x%2==0])\n",
        "print(\"Original Data Series:\")\n",
        "print(s)\n",
        "print(\"Mean of the said Data Series:\")\n",
        "print(s.mean())\n",
        "print(\"Standard deviation of the said Data Series:\")\n",
        "print(s.std())\n"
      ],
      "execution_count": 9,
      "outputs": [
        {
          "output_type": "stream",
          "text": [
            "Original Data Series:\n",
            "0        0\n",
            "1        2\n",
            "2        4\n",
            "3        6\n",
            "4        8\n",
            "      ... \n",
            "495    990\n",
            "496    992\n",
            "497    994\n",
            "498    996\n",
            "499    998\n",
            "Length: 500, dtype: int64\n",
            "Mean of the said Data Series:\n",
            "499.0\n",
            "Standard deviation of the said Data Series:\n",
            "288.9636655359978\n"
          ],
          "name": "stdout"
        }
      ]
    },
    {
      "cell_type": "markdown",
      "metadata": {
        "id": "edpfsroinqd5",
        "colab_type": "text"
      },
      "source": [
        ""
      ]
    },
    {
      "cell_type": "markdown",
      "metadata": {
        "id": "oUFXcRBQppxN",
        "colab_type": "text"
      },
      "source": [
        "Write a Pandas program to get the elements of an array values into column-wise.\n",
        "Sample data: {‘X’:[All odd numbers but not divisable by 7 upto 1000], 'Y':[ All even numbers but not divisable by 5 upto 1000 ],'Z':[ All odd numbers but not divisable by 3 upto 1000]}\n"
      ]
    },
    {
      "cell_type": "code",
      "metadata": {
        "id": "eR1sCt18ps_d",
        "colab_type": "code",
        "colab": {
          "base_uri": "https://localhost:8080/",
          "height": 119
        },
        "outputId": "7dd66673-4346-4b77-c5bd-a8bae7d646cb"
      },
      "source": [
        "import pandas as pd\n",
        "df = pd.DataFrame({'X':[78,85,96,80,86], 'Y':[84,94,89,83,86],'Z':[86,97,96,72,83]});\n",
        "print(df)"
      ],
      "execution_count": 10,
      "outputs": [
        {
          "output_type": "stream",
          "text": [
            "    X   Y   Z\n",
            "0  78  84  86\n",
            "1  85  94  97\n",
            "2  96  89  96\n",
            "3  80  83  72\n",
            "4  86  86  83\n"
          ],
          "name": "stdout"
        }
      ]
    },
    {
      "cell_type": "code",
      "metadata": {
        "id": "_qIDSzTNpv0G",
        "colab_type": "code",
        "colab": {}
      },
      "source": [
        ""
      ],
      "execution_count": null,
      "outputs": []
    },
    {
      "cell_type": "markdown",
      "metadata": {
        "id": "T0HKVoVhpwqJ",
        "colab_type": "text"
      },
      "source": [
        "Write a Pandas program to display the first 10 rows of the DataFrame for any particular three fields.\n"
      ]
    },
    {
      "cell_type": "code",
      "metadata": {
        "id": "sGcwCpcWp0xf",
        "colab_type": "code",
        "colab": {
          "base_uri": "https://localhost:8080/",
          "height": 102
        },
        "outputId": "8c8b7ff4-a77b-456a-9477-da9f41992377"
      },
      "source": [
        "import pandas as pd\n",
        "import numpy as np\n",
        "\n",
        "exam_data  = {'name': ['Anastasia', 'Dima', 'Katherine', 'James', 'Emily', 'Michael', 'Matthew', 'Laura', 'Kevin', 'Jonas'],\n",
        "        'score': [12.5, 9, 16.5, np.nan, 9, 20, 14.5, np.nan, 8, 19],\n",
        "        'attempts': [1, 3, 2, 3, 2, 3, 1, 1, 2, 1],\n",
        "        'qualify': ['yes', 'no', 'yes', 'no', 'no', 'yes', 'yes', 'no', 'no', 'yes']}\n",
        "labels = ['a', 'b', 'c', 'd', 'e', 'f', 'g', 'h', 'i', 'j']\n",
        "\n",
        "df = pd.DataFrame(exam_data , index=labels)\n",
        "print(\"First three rows of the data frame:\")\n",
        "print(df.iloc[:3])\n"
      ],
      "execution_count": 11,
      "outputs": [
        {
          "output_type": "stream",
          "text": [
            "First three rows of the data frame:\n",
            "        name  score  attempts qualify\n",
            "a  Anastasia   12.5         1     yes\n",
            "b       Dima    9.0         3      no\n",
            "c  Katherine   16.5         2     yes\n"
          ],
          "name": "stdout"
        }
      ]
    },
    {
      "cell_type": "code",
      "metadata": {
        "id": "3xRY4pgmqHPd",
        "colab_type": "code",
        "colab": {}
      },
      "source": [
        "import pandas as pd\n",
        "xyz = pd.read_csv('movies_metadata.csv') \n",
        "print(xyz.head(1))\n"
      ],
      "execution_count": null,
      "outputs": []
    },
    {
      "cell_type": "markdown",
      "metadata": {
        "id": "5tC-4JQLqMM5",
        "colab_type": "text"
      },
      "source": [
        "Write a Pandas program to get the details of the seventh movie of the DataFrame for any particular three fields #(movie_metadata.csv file).\n"
      ]
    },
    {
      "cell_type": "code",
      "metadata": {
        "id": "rmTiLVgsrKXi",
        "colab_type": "code",
        "colab": {}
      },
      "source": [
        "\n",
        "import pandas as pd\n",
        "df = pd.read_csv('movies_metadata.csv')\n",
        "seventh_movie = df.iloc[3]\n",
        "print(\"Details of the seventh movie:\")\n",
        "print(seventh_movie)\n"
      ],
      "execution_count": 12,
      "outputs": []
    },
    {
      "cell_type": "markdown",
      "metadata": {
        "id": "dkHLllsGrRwe",
        "colab_type": "text"
      },
      "source": [
        "Write a Pandas program to sort the DataFrame based on title_year from dataset of movie_metadata.csv for any particular three fields\n"
      ]
    },
    {
      "cell_type": "code",
      "metadata": {
        "id": "NTfv69oLrT_x",
        "colab_type": "code",
        "colab": {}
      },
      "source": [
        "import pandas as pd\n",
        "df = pd.read_csv('movies_metadata.csv')\n",
        "result = df[['title', 'genres']]\n",
        "print(\"Details of title and genres:\")\n",
        "print(result)\n"
      ],
      "execution_count": null,
      "outputs": []
    },
    {
      "cell_type": "markdown",
      "metadata": {
        "id": "k7fCHj2zrW8C",
        "colab_type": "text"
      },
      "source": [
        "Write a Pandas program to sort the DataFrame based on country and language from dataset of movie_metadata.csv\n"
      ]
    },
    {
      "cell_type": "code",
      "metadata": {
        "id": "_TYex5lLrca0",
        "colab_type": "code",
        "colab": {}
      },
      "source": [
        "import pandas as pd\n",
        "df = pd.read_csv('movies_metadata.csv')\n",
        "# Create a smaller dataframe\n",
        "small_df = df[['title', 'release_date', 'budget', 'revenue', 'runtime']]\n",
        "result = small_df.sort_values('release_date')\n",
        "print(\"DataFrame based on country and language.\")\n",
        "print(result)"
      ],
      "execution_count": null,
      "outputs": []
    },
    {
      "cell_type": "markdown",
      "metadata": {
        "id": "ilQG93mmreuh",
        "colab_type": "text"
      },
      "source": [
        "Write a NumPy program to create a random 4x4 array and extract the 2nd and 3rd rows of the array and store them into a variable\n"
      ]
    },
    {
      "cell_type": "code",
      "metadata": {
        "id": "tQIMivu7rhg5",
        "colab_type": "code",
        "colab": {}
      },
      "source": [
        "import numpy as np\n",
        "x = np.random.random((4,4))\n",
        "print(\"Original Array:\")\n",
        "print(x) \n"
      ],
      "execution_count": null,
      "outputs": []
    },
    {
      "cell_type": "markdown",
      "metadata": {
        "id": "UcrSKfuerlbC",
        "colab_type": "text"
      },
      "source": [
        "Write a NumPy program to create a 10x10 array with random values and find the minimum and maximum values.\n"
      ]
    },
    {
      "cell_type": "code",
      "metadata": {
        "id": "u6plSvKaro4h",
        "colab_type": "code",
        "colab": {}
      },
      "source": [
        "import numpy as np\n",
        "x = np.random.random((10,10))\n",
        "print(\"Original Array:\")\n",
        "print(x) \n",
        "xmin, xmax = x.min(), x.max()\n",
        "print(\"Minimum and Maximum Values:\")\n",
        "print(xmin, xmax)\n"
      ],
      "execution_count": null,
      "outputs": []
    },
    {
      "cell_type": "markdown",
      "metadata": {
        "id": "tHjVsS_srr2r",
        "colab_type": "text"
      },
      "source": [
        "Write a NumPy program to generate 8 random integers between 100 and 300\n"
      ]
    },
    {
      "cell_type": "code",
      "metadata": {
        "id": "yYvTCJN4rvDN",
        "colab_type": "code",
        "colab": {}
      },
      "source": [
        "import numpy as np\n",
        "x = np.random.randint(low=100, high=300, size=8)\n",
        "print(x)\n"
      ],
      "execution_count": null,
      "outputs": []
    },
    {
      "cell_type": "markdown",
      "metadata": {
        "id": "I8DNANkPrxsO",
        "colab_type": "text"
      },
      "source": [
        "Write a NumPy program to create a random integer nos of size 20 and sort it\n"
      ]
    },
    {
      "cell_type": "code",
      "metadata": {
        "id": "C3AV_6qRrzqU",
        "colab_type": "code",
        "colab": {}
      },
      "source": [
        "import numpy as np\n",
        "x = np.random.random(20)\n",
        "print(\"Original array:\")\n",
        "print(x)\n",
        "x.sort()\n",
        "print(\"Sorted array:\")\n",
        "print(x)"
      ],
      "execution_count": null,
      "outputs": []
    },
    {
      "cell_type": "code",
      "metadata": {
        "id": "krHwXU7UqLOb",
        "colab_type": "code",
        "colab": {}
      },
      "source": [
        ""
      ],
      "execution_count": null,
      "outputs": []
    }
  ]
}